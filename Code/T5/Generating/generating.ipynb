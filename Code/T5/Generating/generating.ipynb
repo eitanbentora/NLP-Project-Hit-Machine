{
 "cells": [
  {
   "cell_type": "code",
   "execution_count": 1,
   "id": "cdb6e965",
   "metadata": {},
   "outputs": [],
   "source": [
    "from tqdm import tqdm\n",
    "import pickle\n",
    "from transformers import T5ForConditionalGeneration, AutoTokenizer\n",
    "import torch\n",
    "import pandas as pd\n",
    "\n"
   ]
  },
  {
   "cell_type": "code",
   "execution_count": 2,
   "id": "1ce6d5c5",
   "metadata": {},
   "outputs": [
    {
     "name": "stdout",
     "output_type": "stream",
     "text": [
      "Started generation process\n"
     ]
    }
   ],
   "source": [
    "tokenizer = AutoTokenizer.from_pretrained(\"t5-base\")\n",
    "version = 'v2'\n",
    "batch_size = 16\n",
    "\n",
    "model = T5ForConditionalGeneration.from_pretrained(f'/home/student/Desktop/Project/Data/T5Data/Models/model_{version}')\n",
    "model = model.to(device='cuda')\n"
   ]
  },
  {
   "cell_type": "code",
   "execution_count": 13,
   "id": "f43541b0",
   "metadata": {},
   "outputs": [
    {
     "name": "stderr",
     "output_type": "stream",
     "text": [
      "0it [00:00, ?it/s]"
     ]
    },
    {
     "name": "stdout",
     "output_type": "stream",
     "text": [
      "======================================================\n"
     ]
    },
    {
     "name": "stderr",
     "output_type": "stream",
     "text": [
      "\n"
     ]
    }
   ],
   "source": [
    "song_input = [\"summarize song [pop]: Lets go to the mall\", \"summarize song [pop]: Imagine\"]\n",
    "inputs = tokenizer(song_input, return_tensors=\"pt\", padding=True)\n",
    "\n",
    "generated_list = []\n",
    "save_path = f'/home/student/Desktop/Project/Data/T5Data/Generated_{version}'\n",
    "with open(save_path, 'wb') as f:\n",
    "    pickle.dump(generated_list, f)\n",
    "num_batches = inputs['input_ids'].shape[0] // batch_size\n",
    "with torch.no_grad():\n",
    "    for i in tqdm(range(num_batches//2)):\n",
    "        start_idx = i*batch_size + 1\n",
    "        if start_idx + batch_size > len(inputs['input_ids']):\n",
    "            with open(save_path, 'wb') as f:\n",
    "                pickle.dump(generated_list, f)\n",
    "            break\n",
    "        outputs = model.generate(\n",
    "            input_ids=inputs['input_ids'][start_idx:start_idx + batch_size].to(device='cuda'),\n",
    "            attention_mask=inputs['attention_mask'][start_idx:start_idx + batch_size].to(device='cuda'),\n",
    "            do_sample=False,\n",
    "            num_beams=4, no_repeat_ngram_size=2, min_length=200, max_length=300\n",
    "        )\n",
    "        generated_list += tokenizer.batch_decode(outputs.to(device='cpu'), skip_special_tokens=True)\n",
    "        print(generated_list)\n",
    "        if i%10 == 0:\n",
    "            with open(save_path, 'wb') as f:\n",
    "                pickle.dump(generated_list, f)\n",
    "print(\"======================================================\")\n"
   ]
  },
  {
   "cell_type": "code",
   "execution_count": 17,
   "id": "3019ff02",
   "metadata": {},
   "outputs": [],
   "source": [
    "song_input = [\"fill song [pop]: Why can't we be friends\", \"summarize song pop: Imagine\",  \n",
    "              \"summarize song [pop]: story about my friend\", \"summarize song rap: Imagine\"]\n",
    "inputs = tokenizer(song_input, return_tensors=\"pt\", padding=True)\n",
    "\n",
    "outputs = model.generate(\n",
    "            input_ids=inputs['input_ids'].to(device='cuda'),\n",
    "            attention_mask=inputs['attention_mask'].to(device='cuda'),\n",
    "            do_sample=False,\n",
    "            num_beams=6, no_repeat_ngram_size=2, min_length=400, max_length=1000\n",
    "        )"
   ]
  },
  {
   "cell_type": "code",
   "execution_count": 28,
   "id": "cb82a9f4",
   "metadata": {},
   "outputs": [
    {
     "data": {
      "text/plain": [
       "\". Why can't we be friends? n>s2>Gt>DT>Em7/9S3>A7/13-3456218101112131416171819202122232426282732333437312930414243444652535456626364666172737 -------|576768717782838486878889949600515565767475606970808178505958474540484955501000000000---|-0---0-0-2-2--0--20--32--3--3---2--2--2---2---3---0 0--| 0-3-3-1--1-1---1-- --- x /, p : ; )......... __ ______________________................................................---_______---_---................_______ |--->>_._>---..........................> *****. *** ** *........>................_................*---*_-__|_*.*.>*_______>*******  >||**,,_/  a n o m e s t r i h \""
      ]
     },
     "execution_count": 28,
     "metadata": {},
     "output_type": "execute_result"
    }
   ],
   "source": [
    "tokenizer.batch_decode(outputs.to(device='cpu'), skip_special_tokens=True)[0]"
   ]
  },
  {
   "cell_type": "code",
   "execution_count": 4,
   "id": "018c43f5",
   "metadata": {},
   "outputs": [
    {
     "data": {
      "text/plain": [
       "\"n>Why can't we be friends?s2>It's been a long time since we've seen each other, oh, I'm so tired of being alone. 'Cause I can see it in your eyes, and I know that you're the only one who'll ever love me.' - YEAH! :-) x2 / X2 (same chords as first verse, but the chord progression is the same as the first & the second verses, the third and the fourth strums). => HYEHH! (yeah!) --- _________ ______________ (n.c.) (x2) -> HOEHHH!!... OHHHHH!!! OOOOOH!!!!!!!!!!!!!!!!!!! (oooooohhhhhhh)(x3)??????....................................................................................................................... (a.m..........)------|-------->---0----2----0---2---3----2----3----4---4----5----6----7----8----9---x----1---2-2--|.................................(s....)---(o....................)...(no )......(-_)_(---)|_ (_._........_................_---................---........---_-................||- (...................../......................................>---/_/......|/............---*------>_>_......................>|.-....????>(_......_?_,_..._,---_______,................\""
      ]
     },
     "execution_count": 4,
     "metadata": {},
     "output_type": "execute_result"
    }
   ],
   "source": [
    "tokenizer.batch_decode(outputs.to(device='cpu'), skip_special_tokens=True)[0]"
   ]
  },
  {
   "cell_type": "code",
   "execution_count": 5,
   "id": "c353f636",
   "metadata": {},
   "outputs": [
    {
     "data": {
      "text/plain": [
       "\"You're Not Here Nows2>n>It's just a picture of you and me, oh, imagine you've never been here before. N.C.: Imagine if you were here now, I'd never be here today. (I'm not there now) - Imagine what you would do 'til the end of time.. Imagine how it would feel to be in this world.... Imagine the way it feels to me....... Imagine all the things that you could do..... Imagine everything that could happen to you...... Imagine......................................... x2 / 1/ 2/ 3/... -> 0 : => b = c ; d e n g s h i m u r t he y l re f ur p er v é?????? --- mm!....................... xx2 (...) ck k w ring!!! *** __ _______. X2( 3) % q  z j & à la variété en com, la tona mente de á vez ) (x2)(x3)/>>------_------_-................---|---0---0----................|-->---/-/---s/................so//_.................................................---x3_______________......................................_/.................../..................../._.......---.........-...........................>..........................>---.............>__>_______>._______--->\""
      ]
     },
     "execution_count": 5,
     "metadata": {},
     "output_type": "execute_result"
    }
   ],
   "source": [
    "tokenizer.batch_decode(outputs.to(device='cpu'), skip_special_tokens=True)[1]"
   ]
  },
  {
   "cell_type": "code",
   "execution_count": 7,
   "id": "906b3134",
   "metadata": {},
   "outputs": [
    {
     "data": {
      "text/plain": [
       "\"n>s2>It's been a long time since I've seen you, oh, but I don't know if you'll ever see me again, yeah....................................................................................................................................................................................................................................................................................................................................................(repeat Chorus) ------|---->---0----2----2---3----0---0-0--|-->->||t>>| | || C |---x-x---X-xx-X---4-...|C |...x... | C|...+|....|......|????|????????|??????|????????!!!!!!!!!!!!!!!!!!!!!!!!!!!!!!!!!!!!!!!!??? :)|2x x 2x!!!!!!!!!!!!!!!!!!!!!!!!!!!!!!!!!!!!!!!!...!!!.!!!!!...!!!!!.!!!....!!!!!!!!!.!...!!.!!...!.???................???.??................---................________________................?---_-_--- _..._......_._........_................-.-......---.---........???---???...???......???.....???........?................??........??---??...??......??.....??....???....??.................---...........................????!!!!!......!!!!!........!!!!!................!!!!!.....!!!!!---!!!!!??!!!!!?????_?...---...-................>----........---.....---....---......!!!................!................!!!........!!!---!!!???_???_______---\""
      ]
     },
     "execution_count": 7,
     "metadata": {},
     "output_type": "execute_result"
    }
   ],
   "source": [
    "tokenizer.batch_decode(outputs.to(device='cpu'), skip_special_tokens=True)[2]"
   ]
  },
  {
   "cell_type": "code",
   "execution_count": 19,
   "id": "0255b059",
   "metadata": {},
   "outputs": [
    {
     "data": {
      "text/plain": [
       "\"You're Here With Me (ver. 2)s2>n>Verse 1: rap: Imagine if you were here with me (I'd be there with you) - oh, imagine a world where you can't live without me, babe! :D t>Em D x2 (x2)....................................................................????????? ------ ________________ /||Hmmmmmhmhmmhhhhhhhhhh...............!!! ******** **********!! =>---!!!! ->---|--|---0---0----2---2----3---4---5----6---7---8---9---10---11---12---13---14---15---16---17---18---19---23---26---27---28---29---33---36---37---38---31---32---34---39---41---52---51---53---55---56---57---59---58---66---48---42---44---45---49---54---1---x----x--3---24---25---22---21---20---*---(*)-_---_-*-.-.--->---................>............................................................................................................................................................................................................................................................---................_._................_______................???................??................????...???......???........???.....???---........---...---......---????????!!!!!!!!!!!!!!!???!!!!!!!!................!!!!!......!!!!!........!!!!!...!!!!!!!!......!!!................!................*****................******---*****\""
      ]
     },
     "execution_count": 19,
     "metadata": {},
     "output_type": "execute_result"
    }
   ],
   "source": [
    "tokenizer.batch_decode(outputs.to(device='cpu'), skip_special_tokens=True)[3]"
   ]
  },
  {
   "cell_type": "code",
   "execution_count": 18,
   "id": "6e7c7ed6",
   "metadata": {},
   "outputs": [
    {
     "data": {
      "text/plain": [
       "\"You've Got A Dreams2>n>Verse 1: Imagine if you had a dream, Imagine what you'd do with your life. Imagine how it would feel to be alive, imagine what it's like to live in your own world. Imagine how the world would look like, imagining what life would be like for you and me, and all the things that you would do to make it all come true - oh yeah! :) x2: (Same chords as above, same as before). (Repeat Chorus 2: ) (Darling, I'm sorry, but i don't know how to do it )........................................................................................................................................................................................................................?......................................................................................................... (Early note:......)!...---................???????????...????....???.....???......???................? ------????????!!!!!!!!!!!!!!!!!!!!......---................---.........---.....---.----(Easy note....)................________________......................_._........_................_______---_..._....._......________...._---_______........_______........---......................>...........................................>------>>-__>_- _/_ _______......?........?................??........???........??................/................-................s................n................*_?_,................,........,......s......n.>........s.....s....s...s---s.\""
      ]
     },
     "execution_count": 18,
     "metadata": {},
     "output_type": "execute_result"
    }
   ],
   "source": [
    "tokenizer.batch_decode(outputs.to(device='cpu'), skip_special_tokens=True)[1]"
   ]
  },
  {
   "cell_type": "code",
   "execution_count": null,
   "id": "0a978089",
   "metadata": {},
   "outputs": [],
   "source": []
  }
 ],
 "metadata": {
  "kernelspec": {
   "display_name": "Python 3",
   "language": "python",
   "name": "python3"
  },
  "language_info": {
   "codemirror_mode": {
    "name": "ipython",
    "version": 3
   },
   "file_extension": ".py",
   "mimetype": "text/x-python",
   "name": "python",
   "nbconvert_exporter": "python",
   "pygments_lexer": "ipython3",
   "version": "3.8.12"
  }
 },
 "nbformat": 4,
 "nbformat_minor": 5
}
