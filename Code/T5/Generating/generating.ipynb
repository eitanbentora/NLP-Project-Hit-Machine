{
 "cells": [
  {
   "cell_type": "code",
   "execution_count": 2,
   "id": "579e89ad",
   "metadata": {},
   "outputs": [],
   "source": [
    "%load_ext autoreload\n",
    "%autoreload 2"
   ]
  },
  {
   "cell_type": "code",
   "execution_count": 6,
   "id": "cdb6e965",
   "metadata": {},
   "outputs": [],
   "source": [
    "from tqdm import tqdm\n",
    "import pickle\n",
    "from transformers import T5ForConditionalGeneration, AutoTokenizer\n",
    "import torch\n",
    "import pandas as pd\n",
    "\n",
    "from generating import SongWriter\n"
   ]
  },
  {
   "cell_type": "markdown",
   "id": "f342d929",
   "metadata": {},
   "source": [
    "## Loading tokenizer"
   ]
  },
  {
   "cell_type": "code",
   "execution_count": null,
   "id": "6f0ddfed",
   "metadata": {},
   "outputs": [],
   "source": [
    "tokenizer = AutoTokenizer.from_pretrained(\"t5-base\")\n"
   ]
  },
  {
   "cell_type": "markdown",
   "id": "8b5757af",
   "metadata": {},
   "source": [
    "## Loading lyrics model"
   ]
  },
  {
   "cell_type": "code",
   "execution_count": 7,
   "id": "1ce6d5c5",
   "metadata": {},
   "outputs": [],
   "source": [
    "version = 'v2_2'\n",
    "\n",
    "lyrics_model = T5ForConditionalGeneration.from_pretrained(f'/home/student/Desktop/Project/Data/T5Data/Models/model_{version}')\n",
    "lyrics_model = lyrics_model.to(device='cuda')\n"
   ]
  },
  {
   "cell_type": "markdown",
   "id": "f856134b",
   "metadata": {},
   "source": [
    "## Loading chords model\n"
   ]
  },
  {
   "cell_type": "code",
   "execution_count": 8,
   "id": "e12f7ba1",
   "metadata": {},
   "outputs": [],
   "source": [
    "# tokenizer = AutoTokenizer.from_pretrained(\"t5-base\")\n",
    "version = 'v2'\n",
    "\n",
    "chords_model = T5ForConditionalGeneration.from_pretrained(f'/home/student/Desktop/Project/Data/T5Data/Models/model_chords_{version}')\n",
    "chords_model = chords_model.to(device='cuda')"
   ]
  },
  {
   "cell_type": "markdown",
   "id": "76c7ed61",
   "metadata": {},
   "source": [
    "## Creating song_writer"
   ]
  },
  {
   "cell_type": "code",
   "execution_count": 6,
   "id": "3d861458",
   "metadata": {},
   "outputs": [],
   "source": [
    "song_writer = SongWriter(lyrics_model, chords_model, tokenizer, verbose=True)\n"
   ]
  },
  {
   "cell_type": "markdown",
   "id": "dbb67845",
   "metadata": {},
   "source": [
    "## Writing lyrics"
   ]
  },
  {
   "cell_type": "code",
   "execution_count": 1,
   "id": "e397cd47",
   "metadata": {
    "scrolled": false
   },
   "outputs": [],
   "source": [
    "import pickle\n",
    "import random\n",
    "genres_list = ['pop', 'rap', 'rock', 'jazz'] \n",
    "genres_list = random.choices(genres_list, k=45)\n",
    "song_inputs = ['dragon', 'my journey to Ragelion', 'my special holiday', 'houses', 'win or lose', 'extreme ski',\n",
    "              'the story about the one eye cat', 'lights', 'someone is with me here', 'your forehead is decorated',\n",
    "               'how many ducks', 'the city mouse and the village mouse', 'walking into the unknown',\n",
    "              'mister hot chocolate', 'one thousand clouds', 'blind belief', 'happiness for one minute',\n",
    "              'in our dreams', 'without saying a word', 'here i come', 'a place for both of us',\n",
    "              'the sand will remember', 'our house', 'three corners to my hat', 'a song for peace', \n",
    "              'today', 'come to me', 'deep water' , 'aginst the wind', 'canaanite blues', 'till tomorrow',\n",
    "              'fathers and sons', 'when will we kiss', 'russian theater', 'white wedding', \n",
    "              'another touch', 'because of you', 'she is not like anyone else', 'just like before','here i am', \n",
    "              'all of the birds', 'and you', 'what will you say', 'begginings', 'your king']\n",
    "\n",
    "lyrics = song_writer.write_lyrics(genres_list=genres_list, song_inputs= song_inputs)\n",
    "with open('lyrics.pkl', 'wb') as f:\n",
    "    pickle.dump(lyrics, f)"
   ]
  },
  {
   "cell_type": "code",
   "execution_count": 9,
   "id": "f93677d6",
   "metadata": {},
   "outputs": [
    {
     "data": {
      "text/plain": [
       "45"
      ]
     },
     "execution_count": 9,
     "metadata": {},
     "output_type": "execute_result"
    }
   ],
   "source": [
    "len(['dragon', 'my journey to Ragelion', 'my special holiday', 'houses', 'win or lose', 'extreme ski',\n",
    "              'the story about the one eye cat', 'lights', 'someone is with me here', 'your forehead is decorated',\n",
    "               'how many ducks', 'the city mouse and the village mouse', 'walking into the unknown',\n",
    "              'mister hot chocolate', 'one thousand clouds', 'blind belief', 'happiness for one minute',\n",
    "              'in our dreams', 'without saying a word', 'here i come', 'a place for both of us',\n",
    "              'the sand will remember', 'our house', 'three corners to my hat', 'a song for peace', \n",
    "              'today', 'come to me', 'deep water' , 'aginst the wind', 'canaanite blues', 'till tomorrow',\n",
    "              'fathers and sons', 'when will we kiss', 'russian theater', 'white wedding', \n",
    "              'another touch', 'because of you', 'she is not like anyone else', 'just like before','here i am', \n",
    "              'all of the birds', 'and you', 'what will you say', 'begginings', 'your king'])"
   ]
  },
  {
   "cell_type": "code",
   "execution_count": 7,
   "id": "b90dff5a",
   "metadata": {},
   "outputs": [
    {
     "data": {
      "text/plain": [
       "['rock', 'rock', 'jazz', 'rock', 'jazz', 'rap', 'rap', 'rock', 'rap', 'pop']"
      ]
     },
     "execution_count": 7,
     "metadata": {},
     "output_type": "execute_result"
    }
   ],
   "source": [
    "import random\n",
    "genres_list = ['pop', 'rap', 'rock', 'jazz']\n",
    "random.choices(genres_list, k=10)"
   ]
  },
  {
   "cell_type": "markdown",
   "id": "c9b67725",
   "metadata": {},
   "source": [
    "## Writing chords"
   ]
  },
  {
   "cell_type": "code",
   "execution_count": 9,
   "id": "3281627e",
   "metadata": {
    "scrolled": true
   },
   "outputs": [],
   "source": [
    "print(song_writer.write_songs_chords(['pop'], [lyrics[0]])[0])"
   ]
  },
  {
   "cell_type": "markdown",
   "id": "0c94fee7",
   "metadata": {},
   "source": [
    "## Writing lyrics and chords"
   ]
  },
  {
   "cell_type": "code",
   "execution_count": 28,
   "id": "afb4a21f",
   "metadata": {},
   "outputs": [],
   "source": [
    "lyrics_generating_params = dict(do_sample=True, min_length=300, max_length=400, top_k=50, top_p=0.95, temperature=0.74, no_repeat_ngram_size=3)\n",
    "# lyrics_generating_params = dict(num_beams=3, no_repeat_ngram_size=2, min_length=300, max_length=600, do_sample=True)\n",
    "chords_generating_params=dict(do_sample=True, max_length=10, top_k=50, top_p=0.95, temperature=1.27)"
   ]
  },
  {
   "cell_type": "code",
   "execution_count": 10,
   "id": "6fcfb067",
   "metadata": {
    "scrolled": false
   },
   "outputs": [],
   "source": [
    "genres_list = [['pop']]\n",
    "song_inputs = ['Journey to Jerusalem']\n",
    "\n",
    "songs = song_writer.write_songs(genres_list=genres_list, song_inputs=song_inputs, \n",
    "                                lyrics_generating_params=lyrics_generating_params, \n",
    "                                chords_generating_params=chords_generating_params)\n",
    "for i, song in enumerate(songs):\n",
    "    print('--------------------', genres_list[i], song_inputs[i], '--------------------')\n",
    "    print(song)"
   ]
  },
  {
   "cell_type": "code",
   "execution_count": 52,
   "id": "fa37b35b",
   "metadata": {
    "scrolled": false
   },
   "outputs": [
    {
     "name": "stdout",
     "output_type": "stream",
     "text": [
      "{'num_beams': 3, 'no_repeat_ngram_size': 2, 'min_length': 300, 'max_length': 600, 'do_sample': True}\n",
      "['summarise song [pop, rock]: The game of chance']\n",
      "{'num_beams': 3, 'no_repeat_ngram_size': 2, 'min_length': 300, 'max_length': 600, 'do_sample': True}\n",
      "['summarise song [rap]: The game of chance']\n",
      "{'num_beams': 3, 'no_repeat_ngram_size': 2, 'min_length': 300, 'max_length': 600, 'do_sample': True}\n",
      "['summarise song [jazz]: The game of chance']\n",
      "{'num_beams': 3, 'no_repeat_ngram_size': 2, 'min_length': 300, 'max_length': 600, 'do_sample': True}\n",
      "['summarise song [pop]: The game of chance']\n",
      "{'num_beams': 3, 'no_repeat_ngram_size': 2, 'min_length': 300, 'max_length': 600, 'do_sample': True}\n",
      "['summarise song [rock]: The game of chance']\n",
      "{'num_beams': 3, 'no_repeat_ngram_size': 2, 'min_length': 300, 'max_length': 600, 'do_sample': True}\n",
      "['summarise song [pop, rock]: dragon']\n",
      "{'num_beams': 3, 'no_repeat_ngram_size': 2, 'min_length': 300, 'max_length': 600, 'do_sample': True}\n",
      "['summarise song [rap]: dragon']\n",
      "{'num_beams': 3, 'no_repeat_ngram_size': 2, 'min_length': 300, 'max_length': 600, 'do_sample': True}\n",
      "['summarise song [jazz]: dragon']\n",
      "{'num_beams': 3, 'no_repeat_ngram_size': 2, 'min_length': 300, 'max_length': 600, 'do_sample': True}\n",
      "['summarise song [pop]: dragon']\n",
      "{'num_beams': 3, 'no_repeat_ngram_size': 2, 'min_length': 300, 'max_length': 600, 'do_sample': True}\n",
      "['summarise song [rock]: dragon']\n",
      "{'num_beams': 3, 'no_repeat_ngram_size': 2, 'min_length': 300, 'max_length': 600, 'do_sample': True}\n",
      "['summarise song [pop, rock]: The girl in the blue dress']\n",
      "{'num_beams': 3, 'no_repeat_ngram_size': 2, 'min_length': 300, 'max_length': 600, 'do_sample': True}\n",
      "['summarise song [rap]: The girl in the blue dress']\n",
      "{'num_beams': 3, 'no_repeat_ngram_size': 2, 'min_length': 300, 'max_length': 600, 'do_sample': True}\n",
      "['summarise song [jazz]: The girl in the blue dress']\n",
      "{'num_beams': 3, 'no_repeat_ngram_size': 2, 'min_length': 300, 'max_length': 600, 'do_sample': True}\n",
      "['summarise song [pop]: The girl in the blue dress']\n",
      "{'num_beams': 3, 'no_repeat_ngram_size': 2, 'min_length': 300, 'max_length': 600, 'do_sample': True}\n",
      "['summarise song [rock]: The girl in the blue dress']\n",
      "{'num_beams': 3, 'no_repeat_ngram_size': 2, 'min_length': 300, 'max_length': 600, 'do_sample': True}\n",
      "['summarise song [pop, rock]: Dont worry be happy']\n",
      "{'num_beams': 3, 'no_repeat_ngram_size': 2, 'min_length': 300, 'max_length': 600, 'do_sample': True}\n",
      "['summarise song [rap]: Dont worry be happy']\n",
      "{'num_beams': 3, 'no_repeat_ngram_size': 2, 'min_length': 300, 'max_length': 600, 'do_sample': True}\n",
      "['summarise song [jazz]: Dont worry be happy']\n",
      "{'num_beams': 3, 'no_repeat_ngram_size': 2, 'min_length': 300, 'max_length': 600, 'do_sample': True}\n",
      "['summarise song [pop]: Dont worry be happy']\n",
      "{'num_beams': 3, 'no_repeat_ngram_size': 2, 'min_length': 300, 'max_length': 600, 'do_sample': True}\n",
      "['summarise song [rock]: Dont worry be happy']\n",
      "{'num_beams': 3, 'no_repeat_ngram_size': 2, 'min_length': 300, 'max_length': 600, 'do_sample': True}\n",
      "['summarise song [pop, rock]: houses']\n",
      "{'num_beams': 3, 'no_repeat_ngram_size': 2, 'min_length': 300, 'max_length': 600, 'do_sample': True}\n",
      "['summarise song [rap]: houses']\n",
      "{'num_beams': 3, 'no_repeat_ngram_size': 2, 'min_length': 300, 'max_length': 600, 'do_sample': True}\n",
      "['summarise song [jazz]: houses']\n",
      "{'num_beams': 3, 'no_repeat_ngram_size': 2, 'min_length': 300, 'max_length': 600, 'do_sample': True}\n",
      "['summarise song [pop]: houses']\n",
      "{'num_beams': 3, 'no_repeat_ngram_size': 2, 'min_length': 300, 'max_length': 600, 'do_sample': True}\n",
      "['summarise song [rock]: houses']\n",
      "{'num_beams': 3, 'no_repeat_ngram_size': 2, 'min_length': 300, 'max_length': 600, 'do_sample': True}\n",
      "['summarise song [pop, rock]: cant stand loosing you']\n",
      "{'num_beams': 3, 'no_repeat_ngram_size': 2, 'min_length': 300, 'max_length': 600, 'do_sample': True}\n",
      "['summarise song [rap]: cant stand loosing you']\n",
      "{'num_beams': 3, 'no_repeat_ngram_size': 2, 'min_length': 300, 'max_length': 600, 'do_sample': True}\n",
      "['summarise song [jazz]: cant stand loosing you']\n",
      "{'num_beams': 3, 'no_repeat_ngram_size': 2, 'min_length': 300, 'max_length': 600, 'do_sample': True}\n",
      "['summarise song [pop]: cant stand loosing you']\n",
      "{'num_beams': 3, 'no_repeat_ngram_size': 2, 'min_length': 300, 'max_length': 600, 'do_sample': True}\n",
      "['summarise song [rock]: cant stand loosing you']\n",
      "{'num_beams': 3, 'no_repeat_ngram_size': 2, 'min_length': 300, 'max_length': 600, 'do_sample': True}\n",
      "['summarise song [pop, rock]: Just you and I']\n",
      "{'num_beams': 3, 'no_repeat_ngram_size': 2, 'min_length': 300, 'max_length': 600, 'do_sample': True}\n",
      "['summarise song [rap]: Just you and I']\n",
      "{'num_beams': 3, 'no_repeat_ngram_size': 2, 'min_length': 300, 'max_length': 600, 'do_sample': True}\n",
      "['summarise song [jazz]: Just you and I']\n",
      "{'num_beams': 3, 'no_repeat_ngram_size': 2, 'min_length': 300, 'max_length': 600, 'do_sample': True}\n",
      "['summarise song [pop]: Just you and I']\n",
      "{'num_beams': 3, 'no_repeat_ngram_size': 2, 'min_length': 300, 'max_length': 600, 'do_sample': True}\n",
      "['summarise song [rock]: Just you and I']\n",
      "{'num_beams': 3, 'no_repeat_ngram_size': 2, 'min_length': 300, 'max_length': 600, 'do_sample': True}\n",
      "['summarise song [pop, rock]: song bird']\n",
      "{'num_beams': 3, 'no_repeat_ngram_size': 2, 'min_length': 300, 'max_length': 600, 'do_sample': True}\n",
      "['summarise song [rap]: song bird']\n",
      "{'num_beams': 3, 'no_repeat_ngram_size': 2, 'min_length': 300, 'max_length': 600, 'do_sample': True}\n",
      "['summarise song [jazz]: song bird']\n",
      "{'num_beams': 3, 'no_repeat_ngram_size': 2, 'min_length': 300, 'max_length': 600, 'do_sample': True}\n",
      "['summarise song [pop]: song bird']\n",
      "{'num_beams': 3, 'no_repeat_ngram_size': 2, 'min_length': 300, 'max_length': 600, 'do_sample': True}\n",
      "['summarise song [rock]: song bird']\n",
      "{'num_beams': 3, 'no_repeat_ngram_size': 2, 'min_length': 300, 'max_length': 600, 'do_sample': True}\n",
      "['summarise song [pop, rock]: Journey to Jerusalem']\n",
      "{'num_beams': 3, 'no_repeat_ngram_size': 2, 'min_length': 300, 'max_length': 600, 'do_sample': True}\n",
      "['summarise song [rap]: Journey to Jerusalem']\n",
      "{'num_beams': 3, 'no_repeat_ngram_size': 2, 'min_length': 300, 'max_length': 600, 'do_sample': True}\n",
      "['summarise song [jazz]: Journey to Jerusalem']\n",
      "{'num_beams': 3, 'no_repeat_ngram_size': 2, 'min_length': 300, 'max_length': 600, 'do_sample': True}\n",
      "['summarise song [pop]: Journey to Jerusalem']\n",
      "{'num_beams': 3, 'no_repeat_ngram_size': 2, 'min_length': 300, 'max_length': 600, 'do_sample': True}\n",
      "['summarise song [rock]: Journey to Jerusalem']\n"
     ]
    }
   ],
   "source": [
    "import random\n",
    "genres = [['pop', 'rock'], ['rap'], ['jazz'], ['pop'], ['rock']]\n",
    "song_inputs = ['The game of chance', 'dragon', 'The girl in the blue dress', \"Dont worry be happy\", \"houses\", \n",
    "               'cant stand loosing you', 'Just you and I', 'song bird', 'Journey to Jerusalem']\n",
    "f = open('songs.txt', 'a')\n",
    "for song_input in song_inputs:\n",
    "    for genre in genres:\n",
    "        temp = random.uniform(0.9, 1.3)\n",
    "        num_beams = random.randint(2, 8)\n",
    "        chords_generating_params['temperature'] = temp\n",
    "        songs = song_writer.write_songs(genres_list=genre, song_inputs=song_input, \n",
    "                                lyrics_generating_params=lyrics_generating_params, \n",
    "                                chords_generating_params=chords_generating_params)\n",
    "        for i, song in enumerate(songs):\n",
    "            f.write('\\n\\n-------------------- ' + str(genre) +' '+ song_input + f', temp={round(temp, 3)}' + \\\n",
    "                    f', num_beams={num_beams}' + ' --------------------\\n')\n",
    "            f.write(song + '\\n')\n",
    "f.close()"
   ]
  },
  {
   "cell_type": "markdown",
   "id": "3e3f5fb1",
   "metadata": {},
   "source": [
    "# Previous versions\n"
   ]
  },
  {
   "cell_type": "code",
   "execution_count": 12,
   "id": "b7f27dff",
   "metadata": {},
   "outputs": [],
   "source": [
    "df = pd.read_pickle('/home/student/Desktop/Project/Data/chords_split_lang.pkl')"
   ]
  },
  {
   "cell_type": "markdown",
   "id": "206593a7",
   "metadata": {},
   "source": [
    "## V1\n"
   ]
  },
  {
   "cell_type": "code",
   "execution_count": 13,
   "id": "5a2f92a6",
   "metadata": {},
   "outputs": [
    {
     "name": "stdout",
     "output_type": "stream",
     "text": [
      "{'num_beams': 3, 'no_repeat_ngram_size': 2, 'min_length': 300, 'max_length': 600, 'do_sample': True}\n",
      "['summarise song [pop]: The game of chance']\n"
     ]
    },
    {
     "name": "stderr",
     "output_type": "stream",
     "text": [
      "/anaconda/envs/py38_default/lib/python3.8/site-packages/transformers/generation_utils.py:2158: UserWarning: __floordiv__ is deprecated, and its behavior will change in a future version of pytorch. It currently rounds toward 0 (like the 'trunc' function NOT 'floor'). This results in incorrect rounding for negative values. To keep the current behavior, use torch.div(a, b, rounding_mode='trunc'), or for actual floor division, use torch.div(a, b, rounding_mode='floor').\n",
      "  next_indices = next_tokens // vocab_size\n"
     ]
    },
    {
     "name": "stdout",
     "output_type": "stream",
     "text": [
      "n>s2>Gt>Cg/G - Am x2 / G ---/A _ 0 -1 -2 0- 2-0 0-0 2-2-3- 3-0 1-0 -3-3-1-1-3 2-1 1-2 1-3 3-5 4-5 5-7 7-9 4-6 7-8 6-7 -7 -8 /7 -11 -10 -12 -13 -14 -15 -16 -17 -18 -20 -21 -22 -25 57 222 333 111 777 888 001 0000 *** ***** -> 2/ => 1/... 3/. : ) ] 3) 4) 5) 6) 7) 8) 9) 10) b) The game of chance is a s e n g t r l m d o h i j er c u y ll ry ly, he q w re en p il shi k z! ;?....................................... ????? % | = &  = *  (...)'> _______ ** xx ­__-_*---------\n"
     ]
    }
   ],
   "source": [
    "version = 'v1'\n",
    "\n",
    "v1_model = T5ForConditionalGeneration.from_pretrained(f'/home/student/Desktop/Project/Data/T5Data/Models/model_{version}')\n",
    "v1_model = v1_model.to(device='cuda')\n",
    "genres_list = [['pop']]\n",
    "song_inputs = ['The game of chance']\n",
    "\n",
    "song_writer_v1 = SongWriter(v1_model, chords_model, tokenizer, verbose=True)\n",
    "songs_v1 = song_writer_v1.write_lyrics(genres_list=genres_list, song_inputs=song_inputs)\n",
    "print(songs_v1[0])"
   ]
  },
  {
   "cell_type": "code",
   "execution_count": null,
   "id": "481608f5",
   "metadata": {},
   "outputs": [],
   "source": []
  },
  {
   "cell_type": "markdown",
   "id": "92f8b0a7",
   "metadata": {},
   "source": [
    "## V2\n"
   ]
  },
  {
   "cell_type": "code",
   "execution_count": 14,
   "id": "951f39f7",
   "metadata": {},
   "outputs": [
    {
     "name": "stdout",
     "output_type": "stream",
     "text": [
      "{'num_beams': 3, 'no_repeat_ngram_size': 2, 'min_length': 300, 'max_length': 600, 'do_sample': True}\n",
      "['summarise song [pop]: The game of chance']\n",
      "- The game of chance n>s2>Bm7/9- Bb5-/7 F#5+/13- Fdim A5 G5 D5 F5 E5 B5 A4 G6 A7 Fm5t>F7M D6 G7 G/F# C7 D7 A6 D9 A Dm9 Dsus4 Bm6 B7 C5 Am7 E7 Am9 B6 Ftr7 B/G Em7 Em6 E6/14- %!....................................................................................................................................................................................................................................................ohhhhhhhh...oohhh....uh..........woah!...?...?????????????......oooooh.......evtl.............(...)...so.................. (......... [...]...............|...... |.............................................________________................???................??................?.............................................---................ ------\n"
     ]
    }
   ],
   "source": [
    "version = 'v2'\n",
    "\n",
    "v2_model = T5ForConditionalGeneration.from_pretrained(f'/home/student/Desktop/Project/Data/T5Data/Models/model_{version}')\n",
    "v2_model = v2_model.to(device='cuda')\n",
    "genres_list = [['pop']]\n",
    "song_inputs = ['The game of chance']\n",
    "\n",
    "song_writer_v2 = SongWriter(v2_model, chords_model, tokenizer, verbose=True)\n",
    "songs_v2 = song_writer_v2.write_lyrics(genres_list=genres_list, song_inputs=song_inputs)\n",
    "print(songs_v2[0])"
   ]
  },
  {
   "cell_type": "code",
   "execution_count": 15,
   "id": "9a37c10f",
   "metadata": {},
   "outputs": [
    {
     "name": "stdout",
     "output_type": "stream",
     "text": [
      "{'num_beams': 3, 'no_repeat_ngram_size': 2, 'min_length': 300, 'max_length': 600, 'do_sample': True}\n",
      "['summarise song [pop]: The game of chance']\n",
      "\n",
      " \n",
      " The game of chance \n",
      " Is a game that's all right \n",
      " But I don't know if I'll ever win \n",
      " You've got to be the one to win and you're the only to lose \n",
      " And I wont give you my heart \n",
      " Cause I know that I can win, but I wanna lose it \n",
      " So I play my game \n",
      " Of chance, the game I love \n",
      " We play our games, we play the games \n",
      " Everybody loves us, no matter where we are \n",
      " Its the first time that we meet \n",
      " 'Cause the second time you play, I try \n",
      " To get the best out of you \n",
      " If you can, then I will be your friend \n",
      " When you have the world to your face \n",
      " All you need to know is that you know \n",
      " That you want to make it to the end \n",
      " Oh, you got the chance to play \n",
      " With your heart and your soul \n",
      " No matter what you do, oh, yeah \n",
      " This is the way it is, this is my way of playing \n",
      " For the rest of my life \n",
      " In the back of your mind \n",
      " There is no one who can say no \n",
      " Who can blame you for the loss of all your pride \n",
      " Where you are and where you belong \n",
      " What can you say? \n",
      " Well, it seems to me that this game is true \n",
      " (I know) We can play it with your hands \n",
      " Maybe it'\n"
     ]
    }
   ],
   "source": [
    "version = 'v2_2'\n",
    "\n",
    "v2_2_model = T5ForConditionalGeneration.from_pretrained(f'/home/student/Desktop/Project/Data/T5Data/Models/model_{version}')\n",
    "v2_2_model = v2_2_model.to(device='cuda')\n",
    "genres_list = [['pop']]\n",
    "song_inputs = ['The game of chance']\n",
    "\n",
    "song_writer_v2_2 = SongWriter(v2_2_model, chords_model, tokenizer, verbose=True)\n",
    "songs_v2_2 = song_writer_v2_2.write_lyrics(genres_list=genres_list, song_inputs=song_inputs)\n",
    "print(songs_v2_2[0])"
   ]
  },
  {
   "cell_type": "code",
   "execution_count": 46,
   "id": "a7f06862",
   "metadata": {},
   "outputs": [
    {
     "name": "stdout",
     "output_type": "stream",
     "text": [
      "G29D28G27Dm24G\n",
      "G\n",
      "D31Gm\n",
      "C23G721D7M22G926D9M\n",
      "    G/B17Gsus416D6M/Gb19Gdim13D8Msu4G#m7/Dbm/F18G625Dsum4D/A15\n"
     ]
    }
   ],
   "source": [
    "version = 'v1'\n",
    "from generating import decode_chord_line\n",
    "chords_v1_model = T5ForConditionalGeneration.from_pretrained(f'/home/student/Desktop/Project/Data/T5Data/Models/model_chords_{version}')\n",
    "chords_v1_model = chords_v1_model.to(device='cuda')\n",
    "genres_list = [['pop']]\n",
    "song_inputs = ['The game of chance']\n",
    "\n",
    "lyrics_generating_params = dict(num_beams=1, no_repeat_ngram_size=2, min_length=0, max_length=100, do_sample=False)\n",
    "inputs = tokenizer([songs_v2_2[0]], return_tensors=\"pt\", padding=True)\n",
    "with torch.no_grad():\n",
    "    outputs = chords_v1_model.generate(\n",
    "        input_ids=inputs['input_ids'].to(device='cuda'),\n",
    "        attention_mask=inputs['attention_mask'].to(device='cuda'),\n",
    "        **lyrics_generating_params\n",
    "    )\n",
    "chords = tokenizer.batch_decode(outputs.to(device='cpu'), skip_special_tokens=True)\n",
    "\n",
    "chords = [x.replace('@', '\\n').replace(\"'?\", \"'\") for x in chords]\n",
    "parsed_chords = []\n",
    "for line in chords[0].split('\\n'):\n",
    "    parsed_chords.append(decode_chord_line(line.strip(' ')))\n",
    "chords = '\\n'.join(parsed_chords)\n",
    "\n",
    "print(chords)"
   ]
  },
  {
   "cell_type": "code",
   "execution_count": 49,
   "id": "ff62c064",
   "metadata": {},
   "outputs": [
    {
     "name": "stdout",
     "output_type": "stream",
     "text": [
      "The game of chance\n",
      "Em7\n",
      "Is a game that's all right\n",
      "Cmaj7                       G\n",
      "But I don't know if I'll ever win\n",
      "Em7                Cmaj7                  \n",
      "You've got to be the one to win and you're the only to lose\n",
      "      Cmaj7          G\n",
      "And I wont give you my heart\n",
      "      Em7        D                \n",
      "Cause I know that I can win, but I wanna lose it\n",
      "      Cmaj7\n",
      "So I play my game\n",
      "   G      Gsus  \n",
      "Of chance, the game I love\n",
      "   Em7           D              \n",
      "We play our games, we play the games\n",
      "Em7      G              Gs\n",
      "Everybody loves us, no matter where we are\n",
      "       Em7        Cmaj7\n",
      "Its the first time that we meet\n",
      "           G     Gsus  \n",
      "'Cause the second time you play, I try\n",
      "  Em7         D            \n",
      "To get the best out of you\n",
      "Em7          G                 Gs\n",
      "If you can, then I will be your friend\n",
      "       Em7                  Cmaj7\n",
      "When you have the world to your face\n",
      "           G        Gsus            \n",
      "All you need to know is that you know\n",
      "             Em7                 Cmaj7\n",
      "That you want to make it to the end\n",
      "         G       Gsus    \n",
      "Oh, you got the chance to play\n",
      "Em7           D           Em\n",
      "With your heart and your soul\n",
      "               G      Gsus    \n",
      "No matter what you do, oh, yeah\n",
      "         Em7                 D            \n",
      "This is the way it is, this is my way of playing\n",
      "         Em        G\n",
      "For the rest of my life\n",
      "         Cmaj7        G\n",
      "In the back of your mind\n",
      "         Em7                 G\n",
      "There is no one who can say no\n",
      "         G                         Cmaj7\n",
      "Who can blame you for the loss of all your pride\n",
      "         G                    Cmaj7\n",
      "Where you are and where you belong\n",
      "G         Gsus  D\n",
      "What can you say?\n",
      "        Em7                Cmaj7\n",
      "Well, it seems to me that this game is true\n",
      "(I know) We can play it with your hands\n",
      "G          Gsus  D\n",
      "Maybe it'\n"
     ]
    }
   ],
   "source": [
    "version = 'v2'\n",
    "from generating import decode_chord_line\n",
    "chords_v2_model = T5ForConditionalGeneration.from_pretrained(f'/home/student/Desktop/Project/Data/T5Data/Models/model_chords_{version}')\n",
    "chords_v2_model = chords_v2_model.to(device='cuda')\n",
    "genres_list = [['pop']]\n",
    "song_inputs = ['The game of chance']\n",
    "\n",
    "song_writer_v2 = SongWriter(v2_2_model, chords_v2_model, tokenizer, verbose=True)\n",
    "\n",
    "songs_chords_v2 = song_writer_v2.write_songs_chords(genres_list, songs_v2_2[0])\n",
    "print(songs_chords_v2[0])\n"
   ]
  },
  {
   "cell_type": "code",
   "execution_count": null,
   "id": "a8b8b4c1",
   "metadata": {},
   "outputs": [],
   "source": []
  }
 ],
 "metadata": {
  "kernelspec": {
   "display_name": "Python 3 (ipykernel)",
   "language": "python",
   "name": "python3"
  },
  "language_info": {
   "codemirror_mode": {
    "name": "ipython",
    "version": 3
   },
   "file_extension": ".py",
   "mimetype": "text/x-python",
   "name": "python",
   "nbconvert_exporter": "python",
   "pygments_lexer": "ipython3",
   "version": "3.8.11"
  }
 },
 "nbformat": 4,
 "nbformat_minor": 5
}