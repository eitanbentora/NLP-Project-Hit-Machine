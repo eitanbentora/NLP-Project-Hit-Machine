{
 "cells": [
  {
   "cell_type": "code",
   "execution_count": 1,
   "id": "579e89ad",
   "metadata": {},
   "outputs": [],
   "source": [
    "%load_ext autoreload\n",
    "%autoreload 2"
   ]
  },
  {
   "cell_type": "code",
   "execution_count": 2,
   "id": "cdb6e965",
   "metadata": {},
   "outputs": [],
   "source": [
    "from tqdm import tqdm\n",
    "import pickle\n",
    "from transformers import T5ForConditionalGeneration, AutoTokenizer\n",
    "import torch\n",
    "import pandas as pd\n",
    "\n",
    "from generating import SongWriter\n"
   ]
  },
  {
   "cell_type": "markdown",
   "id": "f342d929",
   "metadata": {},
   "source": [
    "## Loading tokenizer"
   ]
  },
  {
   "cell_type": "code",
   "execution_count": 3,
   "id": "6f0ddfed",
   "metadata": {},
   "outputs": [],
   "source": [
    "tokenizer = AutoTokenizer.from_pretrained(\"t5-base\")\n"
   ]
  },
  {
   "cell_type": "markdown",
   "id": "8b5757af",
   "metadata": {},
   "source": [
    "## Loading lyrics model"
   ]
  },
  {
   "cell_type": "code",
   "execution_count": 4,
   "id": "1ce6d5c5",
   "metadata": {},
   "outputs": [],
   "source": [
    "version = 'v2_2'\n",
    "\n",
    "lyrics_model = T5ForConditionalGeneration.from_pretrained(f'/home/student/Desktop/Project/Data/T5Data/Models/model_{version}')\n",
    "lyrics_model = lyrics_model.to(device='cuda')\n"
   ]
  },
  {
   "cell_type": "markdown",
   "id": "f856134b",
   "metadata": {},
   "source": [
    "## Loading chords model\n"
   ]
  },
  {
   "cell_type": "code",
   "execution_count": 5,
   "id": "e12f7ba1",
   "metadata": {},
   "outputs": [],
   "source": [
    "# tokenizer = AutoTokenizer.from_pretrained(\"t5-base\")\n",
    "version = 'v2'\n",
    "\n",
    "chords_model = T5ForConditionalGeneration.from_pretrained(f'/home/student/Desktop/Project/Data/T5Data/Models/model_chords_{version}')\n",
    "chords_model = chords_model.to(device='cuda')"
   ]
  },
  {
   "cell_type": "markdown",
   "id": "76c7ed61",
   "metadata": {},
   "source": [
    "## Creating song_writer"
   ]
  },
  {
   "cell_type": "code",
   "execution_count": 6,
   "id": "3d861458",
   "metadata": {},
   "outputs": [],
   "source": [
    "song_writer = SongWriter(lyrics_model, chords_model, tokenizer, verbose=True)\n"
   ]
  },
  {
   "cell_type": "markdown",
   "id": "dbb67845",
   "metadata": {},
   "source": [
    "## Writing lyrics"
   ]
  },
  {
   "cell_type": "code",
   "execution_count": 10,
   "id": "e397cd47",
   "metadata": {
    "scrolled": false
   },
   "outputs": [
    {
     "name": "stdout",
     "output_type": "stream",
     "text": [
      "{'num_beams': 3, 'no_repeat_ngram_size': 2, 'min_length': 300, 'max_length': 600, 'do_sample': True}\n",
      "['summarise song [rap]: dragon', 'summarise song [rock]: my journey to Ragelion', 'summarise song [pop]: my special holiday', 'summarise song [jazz]: houses', 'summarise song [rock]: win or lose', 'summarise song [rock]: extreme ski', 'summarise song [jazz]: the story about the one eye cat', 'summarise song [pop]: lights', 'summarise song [rock]: someone is with me here', 'summarise song [rock]: your forehead is decorated', 'summarise song [rap]: how many ducks', 'summarise song [rock]: the city mouse and the village mouse', 'summarise song [rock]: walking into the unknown', 'summarise song [rap]: mister hot chocolate', 'summarise song [pop]: one thousand clouds', 'summarise song [rap]: blind belief', 'summarise song [rap]: happiness for one minute', 'summarise song [rock]: in our dreams', 'summarise song [rock]: without saying a word', 'summarise song [rap]: here i come', 'summarise song [rap]: a place for both of us', 'summarise song [pop]: the sand will remember', 'summarise song [rap]: our house', 'summarise song [rock]: three corners to my hat', 'summarise song [pop]: a song for peace', 'summarise song [rock]: today', 'summarise song [pop]: come to me', 'summarise song [pop]: deep water', 'summarise song [rock]: aginst the wind', 'summarise song [rap]: canaanite blues', 'summarise song [pop]: till tomorrow', 'summarise song [jazz]: fathers and sons', 'summarise song [rap]: when will we kiss', 'summarise song [rap]: russian theater', 'summarise song [rap]: white wedding', 'summarise song [rock]: another touch', 'summarise song [pop]: because of you', 'summarise song [rock]: she is not like anyone else', 'summarise song [rock]: just like before', 'summarise song [rap]: here i am', 'summarise song [rap]: all of the birds', 'summarise song [rock]: and you', 'summarise song [jazz]: what will you say', 'summarise song [rap]: begginings', 'summarise song [rap]: your king']\n"
     ]
    },
    {
     "name": "stderr",
     "output_type": "stream",
     "text": [
      "/anaconda/envs/py38_default/lib/python3.8/site-packages/transformers/generation_utils.py:2158: UserWarning: __floordiv__ is deprecated, and its behavior will change in a future version of pytorch. It currently rounds toward 0 (like the 'trunc' function NOT 'floor'). This results in incorrect rounding for negative values. To keep the current behavior, use torch.div(a, b, rounding_mode='trunc'), or for actual floor division, use torch.div(a, b, rounding_mode='floor').\n",
      "  next_indices = next_tokens // vocab_size\n"
     ]
    },
    {
     "ename": "RuntimeError",
     "evalue": "CUDA out of memory. Tried to allocate 80.00 MiB (GPU 0; 7.94 GiB total capacity; 6.76 GiB already allocated; 72.00 MiB free; 7.09 GiB reserved in total by PyTorch) If reserved memory is >> allocated memory try setting max_split_size_mb to avoid fragmentation.  See documentation for Memory Management and PYTORCH_CUDA_ALLOC_CONF",
     "output_type": "error",
     "traceback": [
      "\u001B[0;31m---------------------------------------------------------------------------\u001B[0m",
      "\u001B[0;31mRuntimeError\u001B[0m                              Traceback (most recent call last)",
      "\u001B[0;32m<ipython-input-10-0e2ce87549ab>\u001B[0m in \u001B[0;36m<module>\u001B[0;34m\u001B[0m\n\u001B[1;32m     14\u001B[0m               'all of the birds', 'and you', 'what will you say', 'begginings', 'your king']\n\u001B[1;32m     15\u001B[0m \u001B[0;34m\u001B[0m\u001B[0m\n\u001B[0;32m---> 16\u001B[0;31m \u001B[0mlyrics\u001B[0m \u001B[0;34m=\u001B[0m \u001B[0msong_writer\u001B[0m\u001B[0;34m.\u001B[0m\u001B[0mwrite_lyrics\u001B[0m\u001B[0;34m(\u001B[0m\u001B[0mgenres_list\u001B[0m\u001B[0;34m=\u001B[0m\u001B[0mgenres_list\u001B[0m\u001B[0;34m,\u001B[0m \u001B[0msong_inputs\u001B[0m\u001B[0;34m=\u001B[0m \u001B[0msong_inputs\u001B[0m\u001B[0;34m)\u001B[0m\u001B[0;34m\u001B[0m\u001B[0;34m\u001B[0m\u001B[0m\n\u001B[0m\u001B[1;32m     17\u001B[0m \u001B[0;32mwith\u001B[0m \u001B[0mopen\u001B[0m\u001B[0;34m(\u001B[0m\u001B[0;34m'lyrics.pkl'\u001B[0m\u001B[0;34m,\u001B[0m \u001B[0;34m'wb'\u001B[0m\u001B[0;34m)\u001B[0m \u001B[0;32mas\u001B[0m \u001B[0mf\u001B[0m\u001B[0;34m:\u001B[0m\u001B[0;34m\u001B[0m\u001B[0;34m\u001B[0m\u001B[0m\n\u001B[1;32m     18\u001B[0m     \u001B[0mpickle\u001B[0m\u001B[0;34m.\u001B[0m\u001B[0mdump\u001B[0m\u001B[0;34m(\u001B[0m\u001B[0mlyrics\u001B[0m\u001B[0;34m,\u001B[0m \u001B[0mf\u001B[0m\u001B[0;34m)\u001B[0m\u001B[0;34m\u001B[0m\u001B[0;34m\u001B[0m\u001B[0m\n",
      "\u001B[0;32m~/Desktop/Project/Code/T5/Generating/generating.py\u001B[0m in \u001B[0;36mwrite_lyrics\u001B[0;34m(self, genres_list, song_inputs, lyrics_generating_params)\u001B[0m\n\u001B[1;32m     68\u001B[0m         \u001B[0minputs\u001B[0m \u001B[0;34m=\u001B[0m \u001B[0mself\u001B[0m\u001B[0;34m.\u001B[0m\u001B[0mtokenizer\u001B[0m\u001B[0;34m(\u001B[0m\u001B[0msong_inputs_list\u001B[0m\u001B[0;34m,\u001B[0m \u001B[0mreturn_tensors\u001B[0m\u001B[0;34m=\u001B[0m\u001B[0;34m\"pt\"\u001B[0m\u001B[0;34m,\u001B[0m \u001B[0mpadding\u001B[0m\u001B[0;34m=\u001B[0m\u001B[0;32mTrue\u001B[0m\u001B[0;34m)\u001B[0m\u001B[0;34m\u001B[0m\u001B[0;34m\u001B[0m\u001B[0m\n\u001B[1;32m     69\u001B[0m         \u001B[0;32mwith\u001B[0m \u001B[0mtorch\u001B[0m\u001B[0;34m.\u001B[0m\u001B[0mno_grad\u001B[0m\u001B[0;34m(\u001B[0m\u001B[0;34m)\u001B[0m\u001B[0;34m:\u001B[0m\u001B[0;34m\u001B[0m\u001B[0;34m\u001B[0m\u001B[0m\n\u001B[0;32m---> 70\u001B[0;31m             outputs = self.lyrics_model.generate(\n\u001B[0m\u001B[1;32m     71\u001B[0m                 \u001B[0minput_ids\u001B[0m\u001B[0;34m=\u001B[0m\u001B[0minputs\u001B[0m\u001B[0;34m[\u001B[0m\u001B[0;34m'input_ids'\u001B[0m\u001B[0;34m]\u001B[0m\u001B[0;34m.\u001B[0m\u001B[0mto\u001B[0m\u001B[0;34m(\u001B[0m\u001B[0mdevice\u001B[0m\u001B[0;34m=\u001B[0m\u001B[0;34m'cuda'\u001B[0m\u001B[0;34m)\u001B[0m\u001B[0;34m,\u001B[0m\u001B[0;34m\u001B[0m\u001B[0;34m\u001B[0m\u001B[0m\n\u001B[1;32m     72\u001B[0m                 \u001B[0mattention_mask\u001B[0m\u001B[0;34m=\u001B[0m\u001B[0minputs\u001B[0m\u001B[0;34m[\u001B[0m\u001B[0;34m'attention_mask'\u001B[0m\u001B[0;34m]\u001B[0m\u001B[0;34m.\u001B[0m\u001B[0mto\u001B[0m\u001B[0;34m(\u001B[0m\u001B[0mdevice\u001B[0m\u001B[0;34m=\u001B[0m\u001B[0;34m'cuda'\u001B[0m\u001B[0;34m)\u001B[0m\u001B[0;34m,\u001B[0m\u001B[0;34m\u001B[0m\u001B[0;34m\u001B[0m\u001B[0m\n",
      "\u001B[0;32m/anaconda/envs/py38_default/lib/python3.8/site-packages/torch/autograd/grad_mode.py\u001B[0m in \u001B[0;36mdecorate_context\u001B[0;34m(*args, **kwargs)\u001B[0m\n\u001B[1;32m     26\u001B[0m         \u001B[0;32mdef\u001B[0m \u001B[0mdecorate_context\u001B[0m\u001B[0;34m(\u001B[0m\u001B[0;34m*\u001B[0m\u001B[0margs\u001B[0m\u001B[0;34m,\u001B[0m \u001B[0;34m**\u001B[0m\u001B[0mkwargs\u001B[0m\u001B[0;34m)\u001B[0m\u001B[0;34m:\u001B[0m\u001B[0;34m\u001B[0m\u001B[0;34m\u001B[0m\u001B[0m\n\u001B[1;32m     27\u001B[0m             \u001B[0;32mwith\u001B[0m \u001B[0mself\u001B[0m\u001B[0;34m.\u001B[0m\u001B[0m__class__\u001B[0m\u001B[0;34m(\u001B[0m\u001B[0;34m)\u001B[0m\u001B[0;34m:\u001B[0m\u001B[0;34m\u001B[0m\u001B[0;34m\u001B[0m\u001B[0m\n\u001B[0;32m---> 28\u001B[0;31m                 \u001B[0;32mreturn\u001B[0m \u001B[0mfunc\u001B[0m\u001B[0;34m(\u001B[0m\u001B[0;34m*\u001B[0m\u001B[0margs\u001B[0m\u001B[0;34m,\u001B[0m \u001B[0;34m**\u001B[0m\u001B[0mkwargs\u001B[0m\u001B[0;34m)\u001B[0m\u001B[0;34m\u001B[0m\u001B[0;34m\u001B[0m\u001B[0m\n\u001B[0m\u001B[1;32m     29\u001B[0m         \u001B[0;32mreturn\u001B[0m \u001B[0mcast\u001B[0m\u001B[0;34m(\u001B[0m\u001B[0mF\u001B[0m\u001B[0;34m,\u001B[0m \u001B[0mdecorate_context\u001B[0m\u001B[0;34m)\u001B[0m\u001B[0;34m\u001B[0m\u001B[0;34m\u001B[0m\u001B[0m\n\u001B[1;32m     30\u001B[0m \u001B[0;34m\u001B[0m\u001B[0m\n",
      "\u001B[0;32m/anaconda/envs/py38_default/lib/python3.8/site-packages/transformers/generation_utils.py\u001B[0m in \u001B[0;36mgenerate\u001B[0;34m(self, input_ids, max_length, min_length, do_sample, early_stopping, num_beams, temperature, top_k, top_p, repetition_penalty, bad_words_ids, bos_token_id, pad_token_id, eos_token_id, length_penalty, no_repeat_ngram_size, encoder_no_repeat_ngram_size, num_return_sequences, max_time, max_new_tokens, decoder_start_token_id, use_cache, num_beam_groups, diversity_penalty, prefix_allowed_tokens_fn, output_attentions, output_hidden_states, output_scores, return_dict_in_generate, forced_bos_token_id, forced_eos_token_id, remove_invalid_values, synced_gpus, **model_kwargs)\u001B[0m\n\u001B[1;32m   1107\u001B[0m             )\n\u001B[1;32m   1108\u001B[0m \u001B[0;34m\u001B[0m\u001B[0m\n\u001B[0;32m-> 1109\u001B[0;31m             return self.beam_sample(\n\u001B[0m\u001B[1;32m   1110\u001B[0m                 \u001B[0minput_ids\u001B[0m\u001B[0;34m,\u001B[0m\u001B[0;34m\u001B[0m\u001B[0;34m\u001B[0m\u001B[0m\n\u001B[1;32m   1111\u001B[0m                 \u001B[0mbeam_scorer\u001B[0m\u001B[0;34m,\u001B[0m\u001B[0;34m\u001B[0m\u001B[0;34m\u001B[0m\u001B[0m\n",
      "\u001B[0;32m/anaconda/envs/py38_default/lib/python3.8/site-packages/transformers/generation_utils.py\u001B[0m in \u001B[0;36mbeam_sample\u001B[0;34m(self, input_ids, beam_scorer, logits_processor, stopping_criteria, logits_warper, max_length, pad_token_id, eos_token_id, output_attentions, output_hidden_states, output_scores, return_dict_in_generate, synced_gpus, **model_kwargs)\u001B[0m\n\u001B[1;32m   2178\u001B[0m             )\n\u001B[1;32m   2179\u001B[0m             \u001B[0;32mif\u001B[0m \u001B[0mmodel_kwargs\u001B[0m\u001B[0;34m[\u001B[0m\u001B[0;34m\"past\"\u001B[0m\u001B[0;34m]\u001B[0m \u001B[0;32mis\u001B[0m \u001B[0;32mnot\u001B[0m \u001B[0;32mNone\u001B[0m\u001B[0;34m:\u001B[0m\u001B[0;34m\u001B[0m\u001B[0;34m\u001B[0m\u001B[0m\n\u001B[0;32m-> 2180\u001B[0;31m                 \u001B[0mmodel_kwargs\u001B[0m\u001B[0;34m[\u001B[0m\u001B[0;34m\"past\"\u001B[0m\u001B[0;34m]\u001B[0m \u001B[0;34m=\u001B[0m \u001B[0mself\u001B[0m\u001B[0;34m.\u001B[0m\u001B[0m_reorder_cache\u001B[0m\u001B[0;34m(\u001B[0m\u001B[0mmodel_kwargs\u001B[0m\u001B[0;34m[\u001B[0m\u001B[0;34m\"past\"\u001B[0m\u001B[0;34m]\u001B[0m\u001B[0;34m,\u001B[0m \u001B[0mbeam_idx\u001B[0m\u001B[0;34m)\u001B[0m\u001B[0;34m\u001B[0m\u001B[0;34m\u001B[0m\u001B[0m\n\u001B[0m\u001B[1;32m   2181\u001B[0m \u001B[0;34m\u001B[0m\u001B[0m\n\u001B[1;32m   2182\u001B[0m             \u001B[0;31m# increase cur_len\u001B[0m\u001B[0;34m\u001B[0m\u001B[0;34m\u001B[0m\u001B[0;34m\u001B[0m\u001B[0m\n",
      "\u001B[0;32m/anaconda/envs/py38_default/lib/python3.8/site-packages/transformers/models/t5/modeling_t5.py\u001B[0m in \u001B[0;36m_reorder_cache\u001B[0;34m(self, past, beam_idx)\u001B[0m\n\u001B[1;32m   1708\u001B[0m                 \u001B[0;31m# need to set correct `past` for each of the four key / value states\u001B[0m\u001B[0;34m\u001B[0m\u001B[0;34m\u001B[0m\u001B[0;34m\u001B[0m\u001B[0m\n\u001B[1;32m   1709\u001B[0m                 reordered_layer_past_states = reordered_layer_past_states + (\n\u001B[0;32m-> 1710\u001B[0;31m                     \u001B[0mlayer_past_state\u001B[0m\u001B[0;34m.\u001B[0m\u001B[0mindex_select\u001B[0m\u001B[0;34m(\u001B[0m\u001B[0;36m0\u001B[0m\u001B[0;34m,\u001B[0m \u001B[0mbeam_idx\u001B[0m\u001B[0;34m.\u001B[0m\u001B[0mto\u001B[0m\u001B[0;34m(\u001B[0m\u001B[0mlayer_past_state\u001B[0m\u001B[0;34m.\u001B[0m\u001B[0mdevice\u001B[0m\u001B[0;34m)\u001B[0m\u001B[0;34m)\u001B[0m\u001B[0;34m,\u001B[0m\u001B[0;34m\u001B[0m\u001B[0;34m\u001B[0m\u001B[0m\n\u001B[0m\u001B[1;32m   1711\u001B[0m                 )\n\u001B[1;32m   1712\u001B[0m \u001B[0;34m\u001B[0m\u001B[0m\n",
      "\u001B[0;31mRuntimeError\u001B[0m: CUDA out of memory. Tried to allocate 80.00 MiB (GPU 0; 7.94 GiB total capacity; 6.76 GiB already allocated; 72.00 MiB free; 7.09 GiB reserved in total by PyTorch) If reserved memory is >> allocated memory try setting max_split_size_mb to avoid fragmentation.  See documentation for Memory Management and PYTORCH_CUDA_ALLOC_CONF"
     ]
    }
   ],
   "source": [
    "import pickle\n",
    "import random\n",
    "genres_list = ['pop', 'rap', 'rock', 'jazz'] \n",
    "genres_list = random.choices(genres_list, k=45)\n",
    "song_inputs = ['dragon', 'my journey to Ragelion', 'my special holiday', 'houses', 'win or lose', 'extreme ski',\n",
    "              'the story about the one eye cat', 'lights', 'someone is with me here', 'your forehead is decorated',\n",
    "               'how many ducks', 'the city mouse and the village mouse', 'walking into the unknown',\n",
    "              'mister hot chocolate', 'one thousand clouds', 'blind belief', 'happiness for one minute',\n",
    "              'in our dreams', 'without saying a word', 'here i come', 'a place for both of us',\n",
    "              'the sand will remember', 'our house', 'three corners to my hat', 'a song for peace', \n",
    "              'today', 'come to me', 'deep water' , 'aginst the wind', 'canaanite blues', 'till tomorrow',\n",
    "              'fathers and sons', 'when will we kiss', 'russian theater', 'white wedding', \n",
    "              'another touch', 'because of you', 'she is not like anyone else', 'just like before','here i am', \n",
    "              'all of the birds', 'and you', 'what will you say', 'begginings', 'your king']\n",
    "\n",
    "lyrics = song_writer.write_lyrics(genres_list=genres_list, song_inputs= song_inputs)\n",
    "with open('lyrics.pkl', 'wb') as f:\n",
    "    pickle.dump(lyrics, f)"
   ]
  },
  {
   "cell_type": "code",
   "execution_count": 9,
   "id": "f93677d6",
   "metadata": {},
   "outputs": [
    {
     "data": {
      "text/plain": [
       "45"
      ]
     },
     "execution_count": 9,
     "metadata": {},
     "output_type": "execute_result"
    }
   ],
   "source": [
    "len(['dragon', 'my journey to Ragelion', 'my special holiday', 'houses', 'win or lose', 'extreme ski',\n",
    "              'the story about the one eye cat', 'lights', 'someone is with me here', 'your forehead is decorated',\n",
    "               'how many ducks', 'the city mouse and the village mouse', 'walking into the unknown',\n",
    "              'mister hot chocolate', 'one thousand clouds', 'blind belief', 'happiness for one minute',\n",
    "              'in our dreams', 'without saying a word', 'here i come', 'a place for both of us',\n",
    "              'the sand will remember', 'our house', 'three corners to my hat', 'a song for peace', \n",
    "              'today', 'come to me', 'deep water' , 'aginst the wind', 'canaanite blues', 'till tomorrow',\n",
    "              'fathers and sons', 'when will we kiss', 'russian theater', 'white wedding', \n",
    "              'another touch', 'because of you', 'she is not like anyone else', 'just like before','here i am', \n",
    "              'all of the birds', 'and you', 'what will you say', 'begginings', 'your king'])"
   ]
  },
  {
   "cell_type": "code",
   "execution_count": 7,
   "id": "b90dff5a",
   "metadata": {},
   "outputs": [
    {
     "data": {
      "text/plain": [
       "['rock', 'rock', 'jazz', 'rock', 'jazz', 'rap', 'rap', 'rock', 'rap', 'pop']"
      ]
     },
     "execution_count": 7,
     "metadata": {},
     "output_type": "execute_result"
    }
   ],
   "source": [
    "import random\n",
    "genres_list = ['pop', 'rap', 'rock', 'jazz']\n",
    "random.choices(genres_list, k=10)"
   ]
  },
  {
   "cell_type": "markdown",
   "id": "c9b67725",
   "metadata": {},
   "source": [
    "## Writing chords"
   ]
  },
  {
   "cell_type": "code",
   "execution_count": 9,
   "id": "3281627e",
   "metadata": {
    "scrolled": true
   },
   "outputs": [
    {
     "name": "stdout",
     "output_type": "stream",
     "text": [
      "Capo on 3rd fret\n",
      "(Repeat Chorus):\n",
      "       Em                         C\n",
      "I'm a dragon, and it's gonna take me by the hand\n",
      "Em                           C\n",
      "When I see you, I know you'll be alright\n",
      "Em                        C\n",
      "But I don't know what you mean to me\n",
      "Em                    C\n",
      "You're frightened to see me go\n",
      "Em                          C\n",
      "And I can tell you that I do\n",
      "    Em\n",
      "Oh, dragon\n",
      "      C               Em\n",
      "'Cause I wanna be your dragon...\n",
      "    C                  Em\n",
      "So I just gotta be the dragon.\n",
      "Em                   C\n",
      "If I was you I would be you\n",
      "Em                  C\n",
      "Cause if I were you?\n",
      "Em                  C\n",
      "Then I could be my dragon....\n",
      "C               Em\n",
      "There'd be dragons in the sky\n",
      "C                   Em\n",
      "That I might be drivin' in my own way\n",
      "C                   Em                                  G\n",
      "Just like the ones who've been through the night\n",
      "C                      Em                            G\n",
      "A dragon is ev'rything you can do to my heart\n",
      "C                   Em                         G\n",
      "In the dark, the light of the moon\n",
      "C                   Em                       G\n",
      "For you and me, oh, that is the one who will be mine\n",
      "C                Em\n",
      "Dragons are clinging to the throne\n",
      "C                  Em\n",
      "Like i was able to scream and say\n",
      "G\n",
      "\"I'mma love you\"\n",
      "C                 Em\n",
      "How could I have been so afraid to fly\n",
      "G\n",
      "With my daddy\n",
      "C                Em\n",
      "My dragon dragon has piqued my soul\n",
      "   C         Em\n",
      "As he climbed the mountain\n",
      "G\n",
      "He was the first king\n",
      "C       Em\n",
      "To the other\n"
     ]
    }
   ],
   "source": [
    "print(song_writer.write_songs_chords(['pop'], [lyrics[0]])[0])"
   ]
  },
  {
   "cell_type": "markdown",
   "id": "0c94fee7",
   "metadata": {},
   "source": [
    "## Writing lyrics and chords"
   ]
  },
  {
   "cell_type": "code",
   "execution_count": 28,
   "id": "afb4a21f",
   "metadata": {},
   "outputs": [],
   "source": [
    "lyrics_generating_params = dict(do_sample=True, min_length=300, max_length=400, top_k=50, top_p=0.95, temperature=0.74, no_repeat_ngram_size=3)\n",
    "# lyrics_generating_params = dict(num_beams=3, no_repeat_ngram_size=2, min_length=300, max_length=600, do_sample=True)\n",
    "chords_generating_params=dict(do_sample=True, max_length=10, top_k=50, top_p=0.95, temperature=1.27)"
   ]
  },
  {
   "cell_type": "code",
   "execution_count": 31,
   "id": "6fcfb067",
   "metadata": {
    "scrolled": false
   },
   "outputs": [
    {
     "name": "stdout",
     "output_type": "stream",
     "text": [
      "{'num_beams': 3, 'no_repeat_ngram_size': 2, 'min_length': 300, 'max_length': 600, 'do_sample': True}\n",
      "['summarise song [pop]: Maya vs Noa', \"summarise song [pop]: who's gonna win in a fight\", 'summarise song [pop]: my dad is an angel', 'summarise song [pop]: Noga vs Gili', 'summarise song [pop]: I have big tits']\n",
      "-------------------- ['pop'] Maya vs Noa --------------------\n",
      "Maya vs Noa\n",
      "F7M                F9M\n",
      "Mayo v's Maya\n",
      "\n",
      "F7M                          C7M\n",
      "Oh, Maya, Mayo, Mayhu, Mayu, Maihu\n",
      "F7M                 F9M\n",
      "Mayu vvs Mayu\n",
      "\n",
      "F7M                            C7M\n",
      "Ayy, Mayum, Mayus, Mayun, Mayul, Mayou\n",
      "A#         F7M\n",
      "Mayus v oa\n",
      "Ebm                Bb#\n",
      "Oh Oh, Oh, ooh\n",
      "A#                    G\n",
      "Mayum v, Mayau, Mayawa v\n",
      "\n",
      "(Repeat chorus)\n",
      "\n",
      "Ebm              Bb#\n",
      "Noa, Noa - Mayum\n",
      "A#         F7M\n",
      "Mayun v noa\n",
      "C7M\n",
      "Then, Mayam, Mayune\n",
      "F7M\n",
      "Mayou, Mayura v. Mayou v (Retreat chorus), Mayo (Maya ) Mayu (Mayo, Nou) Mayo\n",
      "C7M\n",
      "Mayon, Mayowa m - Noo\n",
      "(repeat Chorus) Maya (Mayou m (Mayu m) Mayawa (Mayawa m), Maya Noo ( Mayou), Mayou ( Mayu)\n",
      "A#\n",
      "Mayau m\n",
      "G Ebm B\n",
      "Mayawa\n",
      "F5    Eb5   \n",
      "Mayin, Mayour v Mayou... Mayou\n",
      "Eb5   B                 F\n",
      "Mayy m... Maya O(Mayou) Mayou Nou\n",
      "(Mayau v) Mayus (Mayus) (Mayüna na Nou ni (Mayù\n",
      "\n",
      "-------------------- ['pop'] who's gonna win in a fight --------------------\n",
      "Who's gonna win in a fight\n",
      "                    D          C            G\n",
      "who's going to lose in?who's got to lose? who'll take the lead, who'd take the shit, who would take the win in the fight\n",
      "                    Bm\n",
      "gonna lose in the battle\n",
      "          Em            C            Am\n",
      "who?s gotta win in in.who?s got a.Who?s who?\n",
      "                Am\n",
      "who...who'll win in\n",
      "           D                    C                       G\n",
      "who.....who'd win in who've got the. who're gonna take the hit in the face\n",
      "                     C  Am\n",
      "who! who! Who?s to win in\n",
      "                          Am\n",
      "who..who'm gonna beat in,who?\n",
      "\n",
      "     D                    C                         G\n",
      "who, who? who? who?ll be the one? who,who've gotta take the punch in the, who,Who? who\n",
      "                      C  Am\n",
      "who are the people to say the truth?\n",
      "                                          D\n",
      "who? who? Who'll the fight who? who????who?ll take fight\n",
      "\n",
      "                              C\n",
      "gonna make it in the name of,Who's to lose\n",
      "                         G\n",
      "who??s 'round in'oh who? (who? who?) who? where? who??who?who?!\n",
      "                       C                Am\n",
      "who gonna pick the punch? who? who/who?\n",
      "\n",
      "(who?) who'a (who) who?who\n",
      "-------------------- ['pop'] my dad is an angel --------------------\n",
      "my dad is an angel\n",
      "     Am\n",
      "my momma's a lovin' clingin' to me\n",
      "    F\n",
      "my daddy is an ev'ryone\n",
      "\n",
      "            Am\n",
      "verse 2\n",
      "\n",
      "    Am\n",
      "he's got a love for me\n",
      "         G/F\n",
      "and he sassin' on me\n",
      "\n",
      "F\n",
      "I'm a fool for my brother, I've been a mister.\n",
      "          Am\n",
      "He's the one who makes me want to be a good man\n",
      "\n",
      "        G/F\n",
      "Then he kissed me and told me it's fine\n",
      "\n",
      "    F\n",
      "My daddy's an angel, my dad is an animal\n",
      "    Am\n",
      "my mama is an idol, my dad's my angel\n",
      "\n",
      "(repeat)\n",
      "\n",
      "          G/F\n",
      "He has a heart that I'd never let up\n",
      "        F\n",
      "He had a wife, and a baby\n",
      "     Am\n",
      "And he is the one that loves me\n",
      "   F\n",
      "He swore to me when he was young\n",
      "        Am\n",
      "But he never knew my mom would love me\n",
      "      G/F\n",
      "So he told me I'll never love him again\n",
      "\n",
      "Ebmaj7  Am\n",
      "Chorus\n",
      "\n",
      "        F\n",
      "And his daddy loves me, my Dad is an Angel\n",
      "\n",
      "             F/A         Am   \n",
      "It's so hard to be there for me (yeah)\n",
      "   F\n",
      "His daddy doesn't come around\n",
      "        Am\n",
      "He doesn'n't miss me\n",
      "           G/F\n",
      "And that I never said\n",
      "\n",
      "        F  Cm  Am\n",
      "But my dads angel,\n",
      "-------------------- ['pop'] Noga vs Gili --------------------\n",
      "Noga vs Gili\n",
      "F             C\n",
      "Noma na ohm, ahm\n",
      "F             C\n",
      "Noe v eoh v, noga\n",
      "F              C\n",
      "Now a lil ye ai aah aooh\n",
      "\n",
      "F         C\n",
      "Noo neo gwa ayoo\n",
      "F    C      F        \n",
      "Noh no e ehm n ei ni yo x3\n",
      "\n",
      "(as the fuck fucked feck)\n",
      "C   F\n",
      "Nok nil nisi\n",
      "\n",
      "\n",
      "F                       E         G\n",
      "nal ape nana sab dy dwy el jina\n",
      "\n",
      "F                       E       G\n",
      "nog da i sat ad lib nina ih ii olli\n",
      "             C F\n",
      "no em ap ac iya tana\n",
      "              E\n",
      "axta b ag aint a da b\n",
      "G\n",
      "tahta\n",
      "              C\n",
      "no, i don't need you\n",
      "\n",
      "C   F\n",
      "yes, if i do\n",
      "\n",
      "             E\n",
      "do id n sp e da af e do aan\n",
      "G\n",
      "no no no (no no no) nna (ne\n",
      "-------------------- ['pop'] I have big tits --------------------\n",
      "I have big tits and I can't wait to see you again\n",
      "       G       G/B     \n",
      "I'm looking for a girl\n",
      "Bm       G\n",
      "Someone\n",
      "\n",
      "         G/B                A     \n",
      "They say that I'll be your girl\n",
      "G                    E\n",
      "I don't know if you're a real girl\n",
      "G                    E\n",
      "But I have a big hat and I am a sexy one\n",
      "G                    E\n",
      "But they say that you'll never get me\n",
      "\n",
      "     A    D\n",
      "Chorus\n",
      "\n",
      "                         G                   D\n",
      "Well I've got big ties and I have lots of titties\n",
      "G                       G7                   D\n",
      "I get my big shirts on and I'd like to see it\n",
      "         A        D\n",
      "I got big big 'tits\n",
      "       Em\n",
      "I can never have tities\n",
      "\n",
      "              D\n",
      "So I're not a bad girl\n",
      "\n",
      "        Em E A\n",
      "Verse\n",
      "               D      G\n",
      "I always think I'mma be a good girl\n",
      "G\n",
      "And I'rrr, I'l be shit\n",
      "       G7\n",
      "I know I'v gotta make it\n",
      "            A\n",
      "But if I had a little girl\n",
      "          Gm\n",
      "'Cause I'e got big\n",
      "G        G9\n",
      "I should've been a crazy girl\n",
      "          A\n",
      "With a baby in my arms\n",
      "            A\n",
      "And if i had taties\n",
      " Gm\n",
      "?Tay tats?\n",
      "\n",
      "(Simple chords)\n",
      "\n",
      " A\n",
      "Chorus\n",
      "\n",
      " E\n",
      "But it's a fine song\n",
      " A7\n",
      "I think I know\n",
      "   Bb\n",
      "But there's no other one\n"
     ]
    }
   ],
   "source": [
    "genres_list = [['pop'], ['pop'], ['pop'], ['pop'], ['pop']]\n",
    "song_inputs = ['Maya vs Noa', \"who's gonna win in a fight\", \"my dad is an angel\", \"Noga vs Gili\", \"I have big tits\"]\n",
    "\n",
    "songs = song_writer.write_songs(genres_list=genres_list, song_inputs=song_inputs, \n",
    "                                lyrics_generating_params=lyrics_generating_params, \n",
    "                                chords_generating_params=chords_generating_params)\n",
    "for i, song in enumerate(songs):\n",
    "    print('--------------------', genres_list[i], song_inputs[i], '--------------------')\n",
    "    print(song)"
   ]
  },
  {
   "cell_type": "code",
   "execution_count": 52,
   "id": "fa37b35b",
   "metadata": {
    "scrolled": false
   },
   "outputs": [
    {
     "name": "stdout",
     "output_type": "stream",
     "text": [
      "{'num_beams': 3, 'no_repeat_ngram_size': 2, 'min_length': 300, 'max_length': 600, 'do_sample': True}\n",
      "['summarise song [pop, rock]: The game of chance']\n",
      "{'num_beams': 3, 'no_repeat_ngram_size': 2, 'min_length': 300, 'max_length': 600, 'do_sample': True}\n",
      "['summarise song [rap]: The game of chance']\n",
      "{'num_beams': 3, 'no_repeat_ngram_size': 2, 'min_length': 300, 'max_length': 600, 'do_sample': True}\n",
      "['summarise song [jazz]: The game of chance']\n",
      "{'num_beams': 3, 'no_repeat_ngram_size': 2, 'min_length': 300, 'max_length': 600, 'do_sample': True}\n",
      "['summarise song [pop]: The game of chance']\n",
      "{'num_beams': 3, 'no_repeat_ngram_size': 2, 'min_length': 300, 'max_length': 600, 'do_sample': True}\n",
      "['summarise song [rock]: The game of chance']\n",
      "{'num_beams': 3, 'no_repeat_ngram_size': 2, 'min_length': 300, 'max_length': 600, 'do_sample': True}\n",
      "['summarise song [pop, rock]: dragon']\n",
      "{'num_beams': 3, 'no_repeat_ngram_size': 2, 'min_length': 300, 'max_length': 600, 'do_sample': True}\n",
      "['summarise song [rap]: dragon']\n",
      "{'num_beams': 3, 'no_repeat_ngram_size': 2, 'min_length': 300, 'max_length': 600, 'do_sample': True}\n",
      "['summarise song [jazz]: dragon']\n",
      "{'num_beams': 3, 'no_repeat_ngram_size': 2, 'min_length': 300, 'max_length': 600, 'do_sample': True}\n",
      "['summarise song [pop]: dragon']\n",
      "{'num_beams': 3, 'no_repeat_ngram_size': 2, 'min_length': 300, 'max_length': 600, 'do_sample': True}\n",
      "['summarise song [rock]: dragon']\n",
      "{'num_beams': 3, 'no_repeat_ngram_size': 2, 'min_length': 300, 'max_length': 600, 'do_sample': True}\n",
      "['summarise song [pop, rock]: The girl in the blue dress']\n",
      "{'num_beams': 3, 'no_repeat_ngram_size': 2, 'min_length': 300, 'max_length': 600, 'do_sample': True}\n",
      "['summarise song [rap]: The girl in the blue dress']\n",
      "{'num_beams': 3, 'no_repeat_ngram_size': 2, 'min_length': 300, 'max_length': 600, 'do_sample': True}\n",
      "['summarise song [jazz]: The girl in the blue dress']\n",
      "{'num_beams': 3, 'no_repeat_ngram_size': 2, 'min_length': 300, 'max_length': 600, 'do_sample': True}\n",
      "['summarise song [pop]: The girl in the blue dress']\n",
      "{'num_beams': 3, 'no_repeat_ngram_size': 2, 'min_length': 300, 'max_length': 600, 'do_sample': True}\n",
      "['summarise song [rock]: The girl in the blue dress']\n",
      "{'num_beams': 3, 'no_repeat_ngram_size': 2, 'min_length': 300, 'max_length': 600, 'do_sample': True}\n",
      "['summarise song [pop, rock]: Dont worry be happy']\n",
      "{'num_beams': 3, 'no_repeat_ngram_size': 2, 'min_length': 300, 'max_length': 600, 'do_sample': True}\n",
      "['summarise song [rap]: Dont worry be happy']\n",
      "{'num_beams': 3, 'no_repeat_ngram_size': 2, 'min_length': 300, 'max_length': 600, 'do_sample': True}\n",
      "['summarise song [jazz]: Dont worry be happy']\n",
      "{'num_beams': 3, 'no_repeat_ngram_size': 2, 'min_length': 300, 'max_length': 600, 'do_sample': True}\n",
      "['summarise song [pop]: Dont worry be happy']\n",
      "{'num_beams': 3, 'no_repeat_ngram_size': 2, 'min_length': 300, 'max_length': 600, 'do_sample': True}\n",
      "['summarise song [rock]: Dont worry be happy']\n",
      "{'num_beams': 3, 'no_repeat_ngram_size': 2, 'min_length': 300, 'max_length': 600, 'do_sample': True}\n",
      "['summarise song [pop, rock]: houses']\n",
      "{'num_beams': 3, 'no_repeat_ngram_size': 2, 'min_length': 300, 'max_length': 600, 'do_sample': True}\n",
      "['summarise song [rap]: houses']\n",
      "{'num_beams': 3, 'no_repeat_ngram_size': 2, 'min_length': 300, 'max_length': 600, 'do_sample': True}\n",
      "['summarise song [jazz]: houses']\n",
      "{'num_beams': 3, 'no_repeat_ngram_size': 2, 'min_length': 300, 'max_length': 600, 'do_sample': True}\n",
      "['summarise song [pop]: houses']\n",
      "{'num_beams': 3, 'no_repeat_ngram_size': 2, 'min_length': 300, 'max_length': 600, 'do_sample': True}\n",
      "['summarise song [rock]: houses']\n",
      "{'num_beams': 3, 'no_repeat_ngram_size': 2, 'min_length': 300, 'max_length': 600, 'do_sample': True}\n",
      "['summarise song [pop, rock]: cant stand loosing you']\n",
      "{'num_beams': 3, 'no_repeat_ngram_size': 2, 'min_length': 300, 'max_length': 600, 'do_sample': True}\n",
      "['summarise song [rap]: cant stand loosing you']\n",
      "{'num_beams': 3, 'no_repeat_ngram_size': 2, 'min_length': 300, 'max_length': 600, 'do_sample': True}\n",
      "['summarise song [jazz]: cant stand loosing you']\n",
      "{'num_beams': 3, 'no_repeat_ngram_size': 2, 'min_length': 300, 'max_length': 600, 'do_sample': True}\n",
      "['summarise song [pop]: cant stand loosing you']\n",
      "{'num_beams': 3, 'no_repeat_ngram_size': 2, 'min_length': 300, 'max_length': 600, 'do_sample': True}\n",
      "['summarise song [rock]: cant stand loosing you']\n",
      "{'num_beams': 3, 'no_repeat_ngram_size': 2, 'min_length': 300, 'max_length': 600, 'do_sample': True}\n",
      "['summarise song [pop, rock]: Just you and I']\n",
      "{'num_beams': 3, 'no_repeat_ngram_size': 2, 'min_length': 300, 'max_length': 600, 'do_sample': True}\n",
      "['summarise song [rap]: Just you and I']\n",
      "{'num_beams': 3, 'no_repeat_ngram_size': 2, 'min_length': 300, 'max_length': 600, 'do_sample': True}\n",
      "['summarise song [jazz]: Just you and I']\n",
      "{'num_beams': 3, 'no_repeat_ngram_size': 2, 'min_length': 300, 'max_length': 600, 'do_sample': True}\n",
      "['summarise song [pop]: Just you and I']\n",
      "{'num_beams': 3, 'no_repeat_ngram_size': 2, 'min_length': 300, 'max_length': 600, 'do_sample': True}\n",
      "['summarise song [rock]: Just you and I']\n",
      "{'num_beams': 3, 'no_repeat_ngram_size': 2, 'min_length': 300, 'max_length': 600, 'do_sample': True}\n",
      "['summarise song [pop, rock]: song bird']\n",
      "{'num_beams': 3, 'no_repeat_ngram_size': 2, 'min_length': 300, 'max_length': 600, 'do_sample': True}\n",
      "['summarise song [rap]: song bird']\n",
      "{'num_beams': 3, 'no_repeat_ngram_size': 2, 'min_length': 300, 'max_length': 600, 'do_sample': True}\n",
      "['summarise song [jazz]: song bird']\n",
      "{'num_beams': 3, 'no_repeat_ngram_size': 2, 'min_length': 300, 'max_length': 600, 'do_sample': True}\n",
      "['summarise song [pop]: song bird']\n",
      "{'num_beams': 3, 'no_repeat_ngram_size': 2, 'min_length': 300, 'max_length': 600, 'do_sample': True}\n",
      "['summarise song [rock]: song bird']\n",
      "{'num_beams': 3, 'no_repeat_ngram_size': 2, 'min_length': 300, 'max_length': 600, 'do_sample': True}\n",
      "['summarise song [pop, rock]: Journey to Jerusalem']\n",
      "{'num_beams': 3, 'no_repeat_ngram_size': 2, 'min_length': 300, 'max_length': 600, 'do_sample': True}\n",
      "['summarise song [rap]: Journey to Jerusalem']\n",
      "{'num_beams': 3, 'no_repeat_ngram_size': 2, 'min_length': 300, 'max_length': 600, 'do_sample': True}\n",
      "['summarise song [jazz]: Journey to Jerusalem']\n",
      "{'num_beams': 3, 'no_repeat_ngram_size': 2, 'min_length': 300, 'max_length': 600, 'do_sample': True}\n",
      "['summarise song [pop]: Journey to Jerusalem']\n",
      "{'num_beams': 3, 'no_repeat_ngram_size': 2, 'min_length': 300, 'max_length': 600, 'do_sample': True}\n",
      "['summarise song [rock]: Journey to Jerusalem']\n"
     ]
    }
   ],
   "source": [
    "import random\n",
    "genres = [['pop', 'rock'], ['rap'], ['jazz'], ['pop'], ['rock']]\n",
    "song_inputs = ['The game of chance', 'dragon', 'The girl in the blue dress', \"Dont worry be happy\", \"houses\", \n",
    "               'cant stand loosing you', 'Just you and I', 'song bird', 'Journey to Jerusalem']\n",
    "f = open('songs.txt', 'a')\n",
    "for song_input in song_inputs:\n",
    "    for genre in genres:\n",
    "        temp = random.uniform(0.9, 1.3)\n",
    "        num_beams = random.randint(2, 8)\n",
    "        chords_generating_params['temperature'] = temp\n",
    "        songs = song_writer.write_songs(genres_list=genre, song_inputs=song_input, \n",
    "                                lyrics_generating_params=lyrics_generating_params, \n",
    "                                chords_generating_params=chords_generating_params)\n",
    "        for i, song in enumerate(songs):\n",
    "            f.write('\\n\\n-------------------- ' + str(genre) +' '+ song_input + f', temp={round(temp, 3)}' + \\\n",
    "                    f', num_beams={num_beams}' + ' --------------------\\n')\n",
    "            f.write(song + '\\n')\n",
    "f.close()"
   ]
  },
  {
   "cell_type": "markdown",
   "id": "3e3f5fb1",
   "metadata": {},
   "source": [
    "# Previous versions\n"
   ]
  },
  {
   "cell_type": "code",
   "execution_count": 12,
   "id": "b7f27dff",
   "metadata": {},
   "outputs": [],
   "source": [
    "df = pd.read_pickle('/home/student/Desktop/Project/Data/chords_split_lang.pkl')"
   ]
  },
  {
   "cell_type": "markdown",
   "id": "206593a7",
   "metadata": {},
   "source": [
    "## V1\n"
   ]
  },
  {
   "cell_type": "code",
   "execution_count": 13,
   "id": "5a2f92a6",
   "metadata": {},
   "outputs": [
    {
     "name": "stdout",
     "output_type": "stream",
     "text": [
      "{'num_beams': 3, 'no_repeat_ngram_size': 2, 'min_length': 300, 'max_length': 600, 'do_sample': True}\n",
      "['summarise song [pop]: The game of chance']\n"
     ]
    },
    {
     "name": "stderr",
     "output_type": "stream",
     "text": [
      "/anaconda/envs/py38_default/lib/python3.8/site-packages/transformers/generation_utils.py:2158: UserWarning: __floordiv__ is deprecated, and its behavior will change in a future version of pytorch. It currently rounds toward 0 (like the 'trunc' function NOT 'floor'). This results in incorrect rounding for negative values. To keep the current behavior, use torch.div(a, b, rounding_mode='trunc'), or for actual floor division, use torch.div(a, b, rounding_mode='floor').\n",
      "  next_indices = next_tokens // vocab_size\n"
     ]
    },
    {
     "name": "stdout",
     "output_type": "stream",
     "text": [
      "n>s2>Gt>Cg/G - Am x2 / G ---/A _ 0 -1 -2 0- 2-0 0-0 2-2-3- 3-0 1-0 -3-3-1-1-3 2-1 1-2 1-3 3-5 4-5 5-7 7-9 4-6 7-8 6-7 -7 -8 /7 -11 -10 -12 -13 -14 -15 -16 -17 -18 -20 -21 -22 -25 57 222 333 111 777 888 001 0000 *** ***** -> 2/ => 1/... 3/. : ) ] 3) 4) 5) 6) 7) 8) 9) 10) b) The game of chance is a s e n g t r l m d o h i j er c u y ll ry ly, he q w re en p il shi k z! ;?....................................... ????? % | = &  = *  (...)'> _______ ** xx ­__-_*---------\n"
     ]
    }
   ],
   "source": [
    "version = 'v1'\n",
    "\n",
    "v1_model = T5ForConditionalGeneration.from_pretrained(f'/home/student/Desktop/Project/Data/T5Data/Models/model_{version}')\n",
    "v1_model = v1_model.to(device='cuda')\n",
    "genres_list = [['pop']]\n",
    "song_inputs = ['The game of chance']\n",
    "\n",
    "song_writer_v1 = SongWriter(v1_model, chords_model, tokenizer, verbose=True)\n",
    "songs_v1 = song_writer_v1.write_lyrics(genres_list=genres_list, song_inputs=song_inputs)\n",
    "print(songs_v1[0])"
   ]
  },
  {
   "cell_type": "code",
   "execution_count": null,
   "id": "481608f5",
   "metadata": {},
   "outputs": [],
   "source": []
  },
  {
   "cell_type": "markdown",
   "id": "92f8b0a7",
   "metadata": {},
   "source": [
    "## V2\n"
   ]
  },
  {
   "cell_type": "code",
   "execution_count": 14,
   "id": "951f39f7",
   "metadata": {},
   "outputs": [
    {
     "name": "stdout",
     "output_type": "stream",
     "text": [
      "{'num_beams': 3, 'no_repeat_ngram_size': 2, 'min_length': 300, 'max_length': 600, 'do_sample': True}\n",
      "['summarise song [pop]: The game of chance']\n",
      "- The game of chance n>s2>Bm7/9- Bb5-/7 F#5+/13- Fdim A5 G5 D5 F5 E5 B5 A4 G6 A7 Fm5t>F7M D6 G7 G/F# C7 D7 A6 D9 A Dm9 Dsus4 Bm6 B7 C5 Am7 E7 Am9 B6 Ftr7 B/G Em7 Em6 E6/14- %!....................................................................................................................................................................................................................................................ohhhhhhhh...oohhh....uh..........woah!...?...?????????????......oooooh.......evtl.............(...)...so.................. (......... [...]...............|...... |.............................................________________................???................??................?.............................................---................ ------\n"
     ]
    }
   ],
   "source": [
    "version = 'v2'\n",
    "\n",
    "v2_model = T5ForConditionalGeneration.from_pretrained(f'/home/student/Desktop/Project/Data/T5Data/Models/model_{version}')\n",
    "v2_model = v2_model.to(device='cuda')\n",
    "genres_list = [['pop']]\n",
    "song_inputs = ['The game of chance']\n",
    "\n",
    "song_writer_v2 = SongWriter(v2_model, chords_model, tokenizer, verbose=True)\n",
    "songs_v2 = song_writer_v2.write_lyrics(genres_list=genres_list, song_inputs=song_inputs)\n",
    "print(songs_v2[0])"
   ]
  },
  {
   "cell_type": "code",
   "execution_count": 15,
   "id": "9a37c10f",
   "metadata": {},
   "outputs": [
    {
     "name": "stdout",
     "output_type": "stream",
     "text": [
      "{'num_beams': 3, 'no_repeat_ngram_size': 2, 'min_length': 300, 'max_length': 600, 'do_sample': True}\n",
      "['summarise song [pop]: The game of chance']\n",
      "\n",
      " \n",
      " The game of chance \n",
      " Is a game that's all right \n",
      " But I don't know if I'll ever win \n",
      " You've got to be the one to win and you're the only to lose \n",
      " And I wont give you my heart \n",
      " Cause I know that I can win, but I wanna lose it \n",
      " So I play my game \n",
      " Of chance, the game I love \n",
      " We play our games, we play the games \n",
      " Everybody loves us, no matter where we are \n",
      " Its the first time that we meet \n",
      " 'Cause the second time you play, I try \n",
      " To get the best out of you \n",
      " If you can, then I will be your friend \n",
      " When you have the world to your face \n",
      " All you need to know is that you know \n",
      " That you want to make it to the end \n",
      " Oh, you got the chance to play \n",
      " With your heart and your soul \n",
      " No matter what you do, oh, yeah \n",
      " This is the way it is, this is my way of playing \n",
      " For the rest of my life \n",
      " In the back of your mind \n",
      " There is no one who can say no \n",
      " Who can blame you for the loss of all your pride \n",
      " Where you are and where you belong \n",
      " What can you say? \n",
      " Well, it seems to me that this game is true \n",
      " (I know) We can play it with your hands \n",
      " Maybe it'\n"
     ]
    }
   ],
   "source": [
    "version = 'v2_2'\n",
    "\n",
    "v2_2_model = T5ForConditionalGeneration.from_pretrained(f'/home/student/Desktop/Project/Data/T5Data/Models/model_{version}')\n",
    "v2_2_model = v2_2_model.to(device='cuda')\n",
    "genres_list = [['pop']]\n",
    "song_inputs = ['The game of chance']\n",
    "\n",
    "song_writer_v2_2 = SongWriter(v2_2_model, chords_model, tokenizer, verbose=True)\n",
    "songs_v2_2 = song_writer_v2_2.write_lyrics(genres_list=genres_list, song_inputs=song_inputs)\n",
    "print(songs_v2_2[0])"
   ]
  },
  {
   "cell_type": "code",
   "execution_count": 46,
   "id": "a7f06862",
   "metadata": {},
   "outputs": [
    {
     "name": "stdout",
     "output_type": "stream",
     "text": [
      "G29D28G27Dm24G\n",
      "G\n",
      "D31Gm\n",
      "C23G721D7M22G926D9M\n",
      "    G/B17Gsus416D6M/Gb19Gdim13D8Msu4G#m7/Dbm/F18G625Dsum4D/A15\n"
     ]
    }
   ],
   "source": [
    "version = 'v1'\n",
    "from generating import decode_chord_line\n",
    "chords_v1_model = T5ForConditionalGeneration.from_pretrained(f'/home/student/Desktop/Project/Data/T5Data/Models/model_chords_{version}')\n",
    "chords_v1_model = chords_v1_model.to(device='cuda')\n",
    "genres_list = [['pop']]\n",
    "song_inputs = ['The game of chance']\n",
    "\n",
    "lyrics_generating_params = dict(num_beams=1, no_repeat_ngram_size=2, min_length=0, max_length=100, do_sample=False)\n",
    "inputs = tokenizer([songs_v2_2[0]], return_tensors=\"pt\", padding=True)\n",
    "with torch.no_grad():\n",
    "    outputs = chords_v1_model.generate(\n",
    "        input_ids=inputs['input_ids'].to(device='cuda'),\n",
    "        attention_mask=inputs['attention_mask'].to(device='cuda'),\n",
    "        **lyrics_generating_params\n",
    "    )\n",
    "chords = tokenizer.batch_decode(outputs.to(device='cpu'), skip_special_tokens=True)\n",
    "\n",
    "chords = [x.replace('@', '\\n').replace(\"'?\", \"'\") for x in chords]\n",
    "parsed_chords = []\n",
    "for line in chords[0].split('\\n'):\n",
    "    parsed_chords.append(decode_chord_line(line.strip(' ')))\n",
    "chords = '\\n'.join(parsed_chords)\n",
    "\n",
    "print(chords)"
   ]
  },
  {
   "cell_type": "code",
   "execution_count": 49,
   "id": "ff62c064",
   "metadata": {},
   "outputs": [
    {
     "name": "stdout",
     "output_type": "stream",
     "text": [
      "The game of chance\n",
      "Em7\n",
      "Is a game that's all right\n",
      "Cmaj7                       G\n",
      "But I don't know if I'll ever win\n",
      "Em7                Cmaj7                  \n",
      "You've got to be the one to win and you're the only to lose\n",
      "      Cmaj7          G\n",
      "And I wont give you my heart\n",
      "      Em7        D                \n",
      "Cause I know that I can win, but I wanna lose it\n",
      "      Cmaj7\n",
      "So I play my game\n",
      "   G      Gsus  \n",
      "Of chance, the game I love\n",
      "   Em7           D              \n",
      "We play our games, we play the games\n",
      "Em7      G              Gs\n",
      "Everybody loves us, no matter where we are\n",
      "       Em7        Cmaj7\n",
      "Its the first time that we meet\n",
      "           G     Gsus  \n",
      "'Cause the second time you play, I try\n",
      "  Em7         D            \n",
      "To get the best out of you\n",
      "Em7          G                 Gs\n",
      "If you can, then I will be your friend\n",
      "       Em7                  Cmaj7\n",
      "When you have the world to your face\n",
      "           G        Gsus            \n",
      "All you need to know is that you know\n",
      "             Em7                 Cmaj7\n",
      "That you want to make it to the end\n",
      "         G       Gsus    \n",
      "Oh, you got the chance to play\n",
      "Em7           D           Em\n",
      "With your heart and your soul\n",
      "               G      Gsus    \n",
      "No matter what you do, oh, yeah\n",
      "         Em7                 D            \n",
      "This is the way it is, this is my way of playing\n",
      "         Em        G\n",
      "For the rest of my life\n",
      "         Cmaj7        G\n",
      "In the back of your mind\n",
      "         Em7                 G\n",
      "There is no one who can say no\n",
      "         G                         Cmaj7\n",
      "Who can blame you for the loss of all your pride\n",
      "         G                    Cmaj7\n",
      "Where you are and where you belong\n",
      "G         Gsus  D\n",
      "What can you say?\n",
      "        Em7                Cmaj7\n",
      "Well, it seems to me that this game is true\n",
      "(I know) We can play it with your hands\n",
      "G          Gsus  D\n",
      "Maybe it'\n"
     ]
    }
   ],
   "source": [
    "version = 'v2'\n",
    "from generating import decode_chord_line\n",
    "chords_v2_model = T5ForConditionalGeneration.from_pretrained(f'/home/student/Desktop/Project/Data/T5Data/Models/model_chords_{version}')\n",
    "chords_v2_model = chords_v2_model.to(device='cuda')\n",
    "genres_list = [['pop']]\n",
    "song_inputs = ['The game of chance']\n",
    "\n",
    "song_writer_v2 = SongWriter(v2_2_model, chords_v2_model, tokenizer, verbose=True)\n",
    "\n",
    "songs_chords_v2 = song_writer_v2.write_songs_chords(genres_list, songs_v2_2[0])\n",
    "print(songs_chords_v2[0])\n"
   ]
  },
  {
   "cell_type": "code",
   "execution_count": null,
   "id": "a8b8b4c1",
   "metadata": {},
   "outputs": [],
   "source": []
  }
 ],
 "metadata": {
  "kernelspec": {
   "display_name": "Python 3",
   "language": "python",
   "name": "python3"
  },
  "language_info": {
   "codemirror_mode": {
    "name": "ipython",
    "version": 3
   },
   "file_extension": ".py",
   "mimetype": "text/x-python",
   "name": "python",
   "nbconvert_exporter": "python",
   "pygments_lexer": "ipython3",
   "version": "3.8.12"
  }
 },
 "nbformat": 4,
 "nbformat_minor": 5
}