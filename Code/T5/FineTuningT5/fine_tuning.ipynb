{
 "cells": [
  {
   "cell_type": "code",
   "execution_count": 6,
   "id": "daca52a6",
   "metadata": {},
   "outputs": [],
   "source": [
    "import pandas as pd\n",
    "from datasets import Dataset, DatasetDict\n",
    "from transformers import AutoTokenizer\n",
    "from transformers import AutoModelWithLMHead\n",
    "from torch import nn\n",
    "from transformers import TrainingArguments\n",
    "from transformers import Trainer\n",
    "from pathlib import Path\n",
    "import torch\n",
    "\n",
    "import re\n",
    "\n",
    "import tensorflow as tf\n",
    "from preprocessors import fill_in_the_blank"
   ]
  },
  {
   "cell_type": "code",
   "execution_count": null,
   "id": "4eb5fcb7",
   "metadata": {},
   "outputs": [],
   "source": []
  },
  {
   "cell_type": "code",
   "execution_count": 1,
   "id": "9edbf11b",
   "metadata": {},
   "outputs": [
    {
     "name": "stdout",
     "output_type": "stream",
     "text": [
      "device:  cpu\n"
     ]
    },
    {
     "name": "stderr",
     "output_type": "stream",
     "text": [
      "/anaconda/envs/py38_default/lib/python3.8/site-packages/torch/cuda/__init__.py:80: UserWarning: CUDA initialization: Unexpected error from cudaGetDeviceCount(). Did you run some cuda functions before calling NumCudaDevices() that might have already set an error? Error 803: system has unsupported display driver / cuda driver combination (Triggered internally at  /opt/conda/conda-bld/pytorch_1634272172048/work/c10/cuda/CUDAFunctions.cpp:112.)\n",
      "  return torch._C._cuda_getDeviceCount() > 0\n"
     ]
    }
   ],
   "source": [
    "import torch\n",
    "device = torch.device(\"cuda\") if torch.cuda.is_available() else torch.device(\"cpu\")\n",
    "print(\"device: \", device)"
   ]
  },
  {
   "cell_type": "code",
   "execution_count": 2,
   "id": "9ab7ee15",
   "metadata": {},
   "outputs": [],
   "source": [
    "%load_ext autoreload\n",
    "%autoreload 2"
   ]
  },
  {
   "cell_type": "code",
   "execution_count": 29,
   "id": "53d89bf4",
   "metadata": {},
   "outputs": [],
   "source": [
    "version = 'v1'\n",
    "\n",
    "df = pd.read_pickle(f'/home/student/Desktop/Project/Data/T5Data/PreparedText/prepared_data_{version}.pkl')\n"
   ]
  },
  {
   "cell_type": "code",
   "execution_count": null,
   "id": "fc357ce9",
   "metadata": {},
   "outputs": [],
   "source": []
  },
  {
   "cell_type": "code",
   "execution_count": 38,
   "id": "7fc5ca66",
   "metadata": {},
   "outputs": [],
   "source": [
    "labeled_df = pd.read_pickle(f'/home/student/Desktop/Project/Data/T5Data/LabeledData/labeled_data_{version}.pkl')\n"
   ]
  },
  {
   "cell_type": "code",
   "execution_count": 39,
   "id": "2c09503f",
   "metadata": {},
   "outputs": [
    {
     "data": {
      "text/html": [
       "<div>\n",
       "<style scoped>\n",
       "    .dataframe tbody tr th:only-of-type {\n",
       "        vertical-align: middle;\n",
       "    }\n",
       "\n",
       "    .dataframe tbody tr th {\n",
       "        vertical-align: top;\n",
       "    }\n",
       "\n",
       "    .dataframe thead th {\n",
       "        text-align: right;\n",
       "    }\n",
       "</style>\n",
       "<table border=\"1\" class=\"dataframe\">\n",
       "  <thead>\n",
       "    <tr style=\"text-align: right;\">\n",
       "      <th></th>\n",
       "      <th>input_ids</th>\n",
       "      <th>labels</th>\n",
       "    </tr>\n",
       "  </thead>\n",
       "  <tbody>\n",
       "    <tr>\n",
       "      <th>0</th>\n",
       "      <td>fill song ['canadian pop', 'pop', 'post-teen p...</td>\n",
       "      <td>10,000 &lt;extra_id_1&gt; 3rd fret&lt;n&gt;&lt;t&gt;&lt;s2&gt;&lt;t&gt;&lt;t&gt; &lt;...</td>\n",
       "    </tr>\n",
       "    <tr>\n",
       "      <th>1</th>\n",
       "      <td>fill song ['canadian pop', 'pop', 'post-teen p...</td>\n",
       "      <td>&lt;extra_id_1&gt; Hours&lt;n&gt;&lt;n&gt;Capo on &lt;extra_id_2&gt; 1...</td>\n",
       "    </tr>\n",
       "    <tr>\n",
       "      <th>2</th>\n",
       "      <td>fill song ['canadian pop', 'pop', 'post-teen p...</td>\n",
       "      <td>2 Much&lt;n&gt;&lt;n&gt;&lt;t&gt;&lt;s2&gt;&lt;t&gt;&lt;t&gt;&lt;n&gt;Intro: F#m7&lt;s2&gt;D2 ...</td>\n",
       "    </tr>\n",
       "    <tr>\n",
       "      <th>3</th>\n",
       "      <td>fill song ['canadian pop', 'pop', 'post-teen p...</td>\n",
       "      <td>&lt;extra_id_1&gt; stare too much &lt;n&gt;&lt;s2&gt;&lt;n&gt;Maybe no...</td>\n",
       "    </tr>\n",
       "    <tr>\n",
       "      <th>4</th>\n",
       "      <td>fill song ['canadian pop', 'pop', 'post-teen p...</td>\n",
       "      <td>2u (feat. David Guetta)&lt;n&gt;&lt;n&gt;&lt;t&gt;&lt;s2&gt;&lt;t&gt;&lt;t&gt;&lt;n&gt;E...</td>\n",
       "    </tr>\n",
       "    <tr>\n",
       "      <th>...</th>\n",
       "      <td>...</td>\n",
       "      <td>...</td>\n",
       "    </tr>\n",
       "    <tr>\n",
       "      <th>87376</th>\n",
       "      <td>fill song ['classic rock', 'folk', 'folk rock'...</td>\n",
       "      <td>The Prophet&lt;n&gt;&lt;n&gt;&lt;t&gt;&lt;s2&gt;&lt;t&gt;&lt;t&gt;&lt;n&gt;&lt;s3&gt;&lt;n&gt;&lt;s3&gt;&lt;n...</td>\n",
       "    </tr>\n",
       "    <tr>\n",
       "      <th>87377</th>\n",
       "      <td>fill song ['classic rock', 'folk', 'folk rock'...</td>\n",
       "      <td>&lt;extra_id_1&gt; tab&lt;s2&gt;Intro:&lt;s3&gt;G&lt;s3&gt;^&lt;s2&gt;v&lt;s3&gt;G...</td>\n",
       "    </tr>\n",
       "    <tr>\n",
       "      <th>87378</th>\n",
       "      <td>fill song ['classic rock', 'folk', 'folk rock'...</td>\n",
       "      <td>The Race&lt;n&gt;&lt;n&gt;&lt;t&gt;&lt;s2&gt;&lt;t&gt;&lt;t&gt;Intro:&lt;s2&gt;Cadd9&lt;s2&gt;...</td>\n",
       "    </tr>\n",
       "    <tr>\n",
       "      <th>87379</th>\n",
       "      <td>fill song ['classic rock', 'folk', 'folk rock'...</td>\n",
       "      <td>&lt;extra_id_1&gt; &lt;n&gt;The &lt;extra_id_2&gt; &lt;n&gt;Some will ...</td>\n",
       "    </tr>\n",
       "    <tr>\n",
       "      <th>87380</th>\n",
       "      <td>fill song ['classic rock', 'folk', 'folk rock'...</td>\n",
       "      <td>The Silver Tounged Devil And I&lt;n&gt;&lt;n&gt;&lt;t&gt;&lt;s2&gt;&lt;t&gt;...</td>\n",
       "    </tr>\n",
       "  </tbody>\n",
       "</table>\n",
       "<p>87381 rows × 2 columns</p>\n",
       "</div>"
      ],
      "text/plain": [
       "                                               input_ids  \\\n",
       "0      fill song ['canadian pop', 'pop', 'post-teen p...   \n",
       "1      fill song ['canadian pop', 'pop', 'post-teen p...   \n",
       "2      fill song ['canadian pop', 'pop', 'post-teen p...   \n",
       "3      fill song ['canadian pop', 'pop', 'post-teen p...   \n",
       "4      fill song ['canadian pop', 'pop', 'post-teen p...   \n",
       "...                                                  ...   \n",
       "87376  fill song ['classic rock', 'folk', 'folk rock'...   \n",
       "87377  fill song ['classic rock', 'folk', 'folk rock'...   \n",
       "87378  fill song ['classic rock', 'folk', 'folk rock'...   \n",
       "87379  fill song ['classic rock', 'folk', 'folk rock'...   \n",
       "87380  fill song ['classic rock', 'folk', 'folk rock'...   \n",
       "\n",
       "                                                  labels  \n",
       "0      10,000 <extra_id_1> 3rd fret<n><t><s2><t><t> <...  \n",
       "1      <extra_id_1> Hours<n><n>Capo on <extra_id_2> 1...  \n",
       "2      2 Much<n><n><t><s2><t><t><n>Intro: F#m7<s2>D2 ...  \n",
       "3      <extra_id_1> stare too much <n><s2><n>Maybe no...  \n",
       "4      2u (feat. David Guetta)<n><n><t><s2><t><t><n>E...  \n",
       "...                                                  ...  \n",
       "87376  The Prophet<n><n><t><s2><t><t><n><s3><n><s3><n...  \n",
       "87377  <extra_id_1> tab<s2>Intro:<s3>G<s3>^<s2>v<s3>G...  \n",
       "87378  The Race<n><n><t><s2><t><t>Intro:<s2>Cadd9<s2>...  \n",
       "87379  <extra_id_1> <n>The <extra_id_2> <n>Some will ...  \n",
       "87380  The Silver Tounged Devil And I<n><n><t><s2><t>...  \n",
       "\n",
       "[87381 rows x 2 columns]"
      ]
     },
     "execution_count": 39,
     "metadata": {},
     "output_type": "execute_result"
    }
   ],
   "source": [
    "labeled_df"
   ]
  },
  {
   "cell_type": "code",
   "execution_count": 67,
   "id": "bc8dc44e",
   "metadata": {},
   "outputs": [],
   "source": [
    "class FillingModel(nn.Module):\n",
    "\n",
    "    def __init__(self):\n",
    "        super(FillingModel, self).__init__()\n",
    "        self.model = AutoModelWithLMHead.from_pretrained(model_name)\n",
    "        self.tokenizer = AutoTokenizer.from_pretrained(model_name)\n",
    "\n",
    "    def forward(self, input_ids, attention_mask, labels):\n",
    "        labels = labels.squeeze(1)  # TODO maybe remove squeeze\n",
    "        pred = self.model(input_ids=input_ids, attention_mask=attention_mask, labels=labels)\n",
    "        return pred\n",
    "\n",
    "\n",
    "def tokenize_fn(examples):\n",
    "    tokenized_examples = tokenizer(\n",
    "        examples[\"input_ids\"], truncation=True, max_length=max_length, padding=\"max_length\")\n",
    "    labels = examples['labels']\n",
    "    tok_labels = tokenizer(\n",
    "        labels, truncation=True, max_length=max_length, padding=\"max_length\")['input_ids']\n",
    "    tokenized_examples['labels'] = tok_labels\n",
    "    return tokenized_examples\n",
    "\n",
    "\n",
    "\n"
   ]
  },
  {
   "cell_type": "code",
   "execution_count": null,
   "id": "066384c7",
   "metadata": {},
   "outputs": [
    {
     "data": {
      "application/vnd.jupyter.widget-view+json": {
       "model_id": "3616d3187b00428e89e5955e1b697231",
       "version_major": 2,
       "version_minor": 0
      },
      "text/plain": [
       "0ex [00:00, ?ex/s]"
      ]
     },
     "metadata": {},
     "output_type": "display_data"
    },
    {
     "name": "stderr",
     "output_type": "stream",
     "text": [
      "/anaconda/envs/py38_default/lib/python3.8/site-packages/transformers/models/auto/modeling_auto.py:742: FutureWarning: The class `AutoModelWithLMHead` is deprecated and will be removed in a future version. Please use `AutoModelForCausalLM` for causal language models, `AutoModelForMaskedLM` for masked language models and `AutoModelForSeq2SeqLM` for encoder-decoder models.\n",
      "  warnings.warn(\n"
     ]
    },
    {
     "data": {
      "application/vnd.jupyter.widget-view+json": {
       "model_id": "7d3480d87beb451c8e5acd176fa6e134",
       "version_major": 2,
       "version_minor": 0
      },
      "text/plain": [
       "Downloading:   0%|          | 0.00/850M [00:00<?, ?B/s]"
      ]
     },
     "metadata": {},
     "output_type": "display_data"
    },
    {
     "name": "stderr",
     "output_type": "stream",
     "text": [
      "/anaconda/envs/py38_default/lib/python3.8/site-packages/torch/cuda/__init__.py:80: UserWarning: CUDA initialization: Unexpected error from cudaGetDeviceCount(). Did you run some cuda functions before calling NumCudaDevices() that might have already set an error? Error 803: system has unsupported display driver / cuda driver combination (Triggered internally at  /opt/conda/conda-bld/pytorch_1634272172048/work/c10/cuda/CUDAFunctions.cpp:112.)\n",
      "  return torch._C._cuda_getDeviceCount() > 0\n",
      "***** Running training *****\n",
      "  Num examples = 160052\n",
      "  Num Epochs = 5\n",
      "  Instantaneous batch size per device = 8\n",
      "  Total train batch size (w. parallel, distributed & accumulation) = 8\n",
      "  Gradient Accumulation steps = 1\n",
      "  Total optimization steps = 100035\n"
     ]
    },
    {
     "data": {
      "text/html": [
       "\n",
       "    <div>\n",
       "      \n",
       "      <progress value='1898' max='100035' style='width:300px; height:20px; vertical-align: middle;'></progress>\n",
       "      [  1898/100035 2:33:40 < 132:34:22, 0.21 it/s, Epoch 0.09/5]\n",
       "    </div>\n",
       "    <table border=\"1\" class=\"dataframe\">\n",
       "  <thead>\n",
       "    <tr style=\"text-align: left;\">\n",
       "      <th>Step</th>\n",
       "      <th>Training Loss</th>\n",
       "    </tr>\n",
       "  </thead>\n",
       "  <tbody>\n",
       "    <tr>\n",
       "      <td>500</td>\n",
       "      <td>1.773800</td>\n",
       "    </tr>\n",
       "    <tr>\n",
       "      <td>1000</td>\n",
       "      <td>1.535500</td>\n",
       "    </tr>\n",
       "    <tr>\n",
       "      <td>1500</td>\n",
       "      <td>1.469700</td>\n",
       "    </tr>\n",
       "  </tbody>\n",
       "</table><p>"
      ],
      "text/plain": [
       "<IPython.core.display.HTML object>"
      ]
     },
     "metadata": {},
     "output_type": "display_data"
    }
   ],
   "source": [
    "# labeled_df = pd.read_pickle('/home/student/Desktop/Project/Data/chords_en.pkl').head(100)[['chords&lyrics']].rename({'chords&lyrics': 'input_ids'}, axis=1)\n",
    "datasets = DatasetDict({'train': Dataset.from_pandas(labeled_df)})\n",
    "del labeled_df\n",
    "model_name = 't5-base'\n",
    "tokenizer = AutoTokenizer.from_pretrained(model_name)\n",
    "max_length = 512\n",
    "\n",
    "tokenized_datasets = datasets.map(tokenize_fn, remove_columns=datasets[\"train\"].column_names)\n",
    "tokenized_datasets.set_format('torch')\n",
    "\n",
    "model = FillingModel()\n",
    "OUT_PATH = Path(\"results\")\n",
    "args = TrainingArguments(output_dir=OUT_PATH, overwrite_output_dir=True, per_device_train_batch_size=8,\n",
    "                         save_strategy='no',\n",
    "                         do_train=True, num_train_epochs=5, report_to='none')\n",
    "\n",
    "device = torch.device(\"cuda\") if torch.cuda.is_available() else torch.device(\"cpu\")\n",
    "print(\"device: \", device)\n",
    "model.to(device)\n",
    "\n",
    "trainer = Trainer(\n",
    "    model=model,\n",
    "    args=args,\n",
    "    train_dataset=tokenized_datasets['train'],\n",
    ")\n",
    "trainer.train()\n",
    "model.model.save_pretrained('/home/student/Desktop/Project/Data/Models/model_basic')"
   ]
  },
  {
   "cell_type": "markdown",
   "id": "a6ec1a2e",
   "metadata": {},
   "source": [
    "concat song name at the begining\n",
    "concat genres before fill\n",
    "increase input length\n",
    "\n"
   ]
  },
  {
   "cell_type": "code",
   "execution_count": null,
   "id": "93298c55",
   "metadata": {},
   "outputs": [],
   "source": []
  }
 ],
 "metadata": {
  "kernelspec": {
   "display_name": "Python 3",
   "language": "python",
   "name": "python3"
  },
  "language_info": {
   "codemirror_mode": {
    "name": "ipython",
    "version": 3
   },
   "file_extension": ".py",
   "mimetype": "text/x-python",
   "name": "python",
   "nbconvert_exporter": "python",
   "pygments_lexer": "ipython3",
   "version": "3.8.12"
  }
 },
 "nbformat": 4,
 "nbformat_minor": 5
}
